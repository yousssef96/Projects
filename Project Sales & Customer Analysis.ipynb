{
 "cells": [
  {
   "attachments": {},
   "cell_type": "markdown",
   "id": "70fd549a-f46a-43c1-817b-d5c3e3e081d0",
   "metadata": {},
   "source": [
    "# Importing Datasets \n",
    "\n"
   ]
  },
  {
   "cell_type": "code",
   "execution_count": 188,
   "id": "1bf7fc7b-ab3f-41b0-b1dd-2bdb7a402022",
   "metadata": {},
   "outputs": [],
   "source": [
    "# Importing needed libraries\n",
    "\n",
    "import pandas as pd\n",
    "import numpy as np\n",
    "import matplotlib.pyplot as plt\n",
    "import seaborn as sns\n",
    "import re\n",
    "%matplotlib inline"
   ]
  },
  {
   "cell_type": "code",
   "execution_count": 189,
   "id": "0a66ff0e-aed2-4f1c-b503-5b43b5d53d39",
   "metadata": {},
   "outputs": [
    {
     "name": "stdout",
     "output_type": "stream",
     "text": [
      " Week2_Data_Wrangling_and_Visual_Exploration.ipynb   sales_data.csv\n",
      " customer_info.csv\t\t\t\t    'week 2.ipynb'\n",
      " product_info.csv\n"
     ]
    }
   ],
   "source": [
    "!ls"
   ]
  },
  {
   "cell_type": "code",
   "execution_count": 190,
   "id": "86f3a03a-0637-4a1b-b4d8-61aa739bc425",
   "metadata": {},
   "outputs": [],
   "source": [
    "customer_df = pd.read_csv('customer_info.csv')\n",
    "product_df = pd.read_csv(\"product_info.csv\")\n",
    "sales_df = pd.read_csv(\"sales_data.csv\")"
   ]
  },
  {
   "cell_type": "markdown",
   "id": "d79c714d-1162-4314-bb0a-62d27b2ccbc8",
   "metadata": {},
   "source": [
    "First let's understand the type of data we are dealing with"
   ]
  },
  {
   "attachments": {},
   "cell_type": "markdown",
   "id": "36fbda79-6134-4281-89b0-7b85d65e93a9",
   "metadata": {},
   "source": [
    "# Understanding the data & Cleaning \n",
    "\n"
   ]
  },
  {
   "attachments": {},
   "cell_type": "markdown",
   "id": "5d4ed659-3879-4363-a913-367dfbab7cff",
   "metadata": {},
   "source": [
    "## customer_df \n",
    "\n"
   ]
  },
  {
   "cell_type": "code",
   "execution_count": 191,
   "id": "9b63e1b6-37dc-4bba-a04d-73772be853bb",
   "metadata": {},
   "outputs": [
    {
     "data": {
      "text/html": [
       "<div>\n",
       "<style scoped>\n",
       "    .dataframe tbody tr th:only-of-type {\n",
       "        vertical-align: middle;\n",
       "    }\n",
       "\n",
       "    .dataframe tbody tr th {\n",
       "        vertical-align: top;\n",
       "    }\n",
       "\n",
       "    .dataframe thead th {\n",
       "        text-align: right;\n",
       "    }\n",
       "</style>\n",
       "<table border=\"1\" class=\"dataframe\">\n",
       "  <thead>\n",
       "    <tr style=\"text-align: right;\">\n",
       "      <th></th>\n",
       "      <th>customer_id</th>\n",
       "      <th>email</th>\n",
       "      <th>signup_date</th>\n",
       "      <th>gender</th>\n",
       "      <th>region</th>\n",
       "      <th>loyalty_tier</th>\n",
       "    </tr>\n",
       "  </thead>\n",
       "  <tbody>\n",
       "    <tr>\n",
       "      <th>0</th>\n",
       "      <td>C00001</td>\n",
       "      <td>shaneramirez@gmail.com</td>\n",
       "      <td>26-04-25</td>\n",
       "      <td>Male</td>\n",
       "      <td>Central</td>\n",
       "      <td>Silver</td>\n",
       "    </tr>\n",
       "    <tr>\n",
       "      <th>1</th>\n",
       "      <td>C00002</td>\n",
       "      <td>jpeterson@bernard.com</td>\n",
       "      <td>11-08-24</td>\n",
       "      <td>Female</td>\n",
       "      <td>Central</td>\n",
       "      <td>gold</td>\n",
       "    </tr>\n",
       "    <tr>\n",
       "      <th>2</th>\n",
       "      <td>C00003</td>\n",
       "      <td>howardmaurice@yahoo.com</td>\n",
       "      <td>15-05-25</td>\n",
       "      <td>male</td>\n",
       "      <td>Central</td>\n",
       "      <td>gold</td>\n",
       "    </tr>\n",
       "    <tr>\n",
       "      <th>3</th>\n",
       "      <td>C00004</td>\n",
       "      <td>yherrera@arnold.org</td>\n",
       "      <td>14-06-25</td>\n",
       "      <td>FEMALE</td>\n",
       "      <td>Central</td>\n",
       "      <td>GOLD</td>\n",
       "    </tr>\n",
       "    <tr>\n",
       "      <th>4</th>\n",
       "      <td>C00005</td>\n",
       "      <td>janetwilliams@gmail.com</td>\n",
       "      <td>02-05-25</td>\n",
       "      <td>Male</td>\n",
       "      <td>West</td>\n",
       "      <td>bronze</td>\n",
       "    </tr>\n",
       "  </tbody>\n",
       "</table>\n",
       "</div>"
      ],
      "text/plain": [
       "  customer_id                    email signup_date  gender   region  \\\n",
       "0      C00001   shaneramirez@gmail.com    26-04-25    Male  Central   \n",
       "1      C00002    jpeterson@bernard.com    11-08-24  Female  Central   \n",
       "2      C00003  howardmaurice@yahoo.com    15-05-25    male  Central   \n",
       "3      C00004      yherrera@arnold.org    14-06-25  FEMALE  Central   \n",
       "4      C00005  janetwilliams@gmail.com    02-05-25    Male     West   \n",
       "\n",
       "  loyalty_tier  \n",
       "0       Silver  \n",
       "1        gold   \n",
       "2        gold   \n",
       "3         GOLD  \n",
       "4       bronze  "
      ]
     },
     "execution_count": 191,
     "metadata": {},
     "output_type": "execute_result"
    }
   ],
   "source": [
    "customer_df.head()"
   ]
  },
  {
   "cell_type": "code",
   "execution_count": 192,
   "id": "a1eb64bc-6e1e-4be3-953e-e1ce7a3b3aa1",
   "metadata": {},
   "outputs": [
    {
     "data": {
      "text/html": [
       "<div>\n",
       "<style scoped>\n",
       "    .dataframe tbody tr th:only-of-type {\n",
       "        vertical-align: middle;\n",
       "    }\n",
       "\n",
       "    .dataframe tbody tr th {\n",
       "        vertical-align: top;\n",
       "    }\n",
       "\n",
       "    .dataframe thead th {\n",
       "        text-align: right;\n",
       "    }\n",
       "</style>\n",
       "<table border=\"1\" class=\"dataframe\">\n",
       "  <thead>\n",
       "    <tr style=\"text-align: right;\">\n",
       "      <th></th>\n",
       "      <th>customer_id</th>\n",
       "      <th>email</th>\n",
       "      <th>signup_date</th>\n",
       "      <th>gender</th>\n",
       "      <th>region</th>\n",
       "      <th>loyalty_tier</th>\n",
       "    </tr>\n",
       "  </thead>\n",
       "  <tbody>\n",
       "    <tr>\n",
       "      <th>495</th>\n",
       "      <td>C00496</td>\n",
       "      <td>simsjohn@wiley.net</td>\n",
       "      <td>19-02-25</td>\n",
       "      <td>femle</td>\n",
       "      <td>Central</td>\n",
       "      <td>GOLD</td>\n",
       "    </tr>\n",
       "    <tr>\n",
       "      <th>496</th>\n",
       "      <td>C00497</td>\n",
       "      <td>cameronwilliams@yahoo.com</td>\n",
       "      <td>30-12-24</td>\n",
       "      <td>NaN</td>\n",
       "      <td>West</td>\n",
       "      <td>GOLD</td>\n",
       "    </tr>\n",
       "    <tr>\n",
       "      <th>497</th>\n",
       "      <td>C00498</td>\n",
       "      <td>ibarron@yahoo.com</td>\n",
       "      <td>21-06-25</td>\n",
       "      <td>male</td>\n",
       "      <td>South</td>\n",
       "      <td>Silver</td>\n",
       "    </tr>\n",
       "    <tr>\n",
       "      <th>498</th>\n",
       "      <td>C00499</td>\n",
       "      <td>karen26@gmail.com</td>\n",
       "      <td>02-10-24</td>\n",
       "      <td>Female</td>\n",
       "      <td>North</td>\n",
       "      <td>gold</td>\n",
       "    </tr>\n",
       "    <tr>\n",
       "      <th>499</th>\n",
       "      <td>C00500</td>\n",
       "      <td>jasonjohnson@jackson.com</td>\n",
       "      <td>28-11-24</td>\n",
       "      <td>Male</td>\n",
       "      <td>North</td>\n",
       "      <td>gold</td>\n",
       "    </tr>\n",
       "  </tbody>\n",
       "</table>\n",
       "</div>"
      ],
      "text/plain": [
       "    customer_id                      email signup_date  gender   region  \\\n",
       "495      C00496         simsjohn@wiley.net    19-02-25   femle  Central   \n",
       "496      C00497  cameronwilliams@yahoo.com    30-12-24     NaN     West   \n",
       "497      C00498          ibarron@yahoo.com    21-06-25    male    South   \n",
       "498      C00499          karen26@gmail.com    02-10-24  Female    North   \n",
       "499      C00500   jasonjohnson@jackson.com    28-11-24    Male    North   \n",
       "\n",
       "    loyalty_tier  \n",
       "495         GOLD  \n",
       "496         GOLD  \n",
       "497       Silver  \n",
       "498        gold   \n",
       "499        gold   "
      ]
     },
     "execution_count": 192,
     "metadata": {},
     "output_type": "execute_result"
    }
   ],
   "source": [
    "customer_df.tail()"
   ]
  },
  {
   "cell_type": "code",
   "execution_count": 193,
   "id": "a8289b59-28a1-498e-aeaa-54d33dd36cc1",
   "metadata": {},
   "outputs": [
    {
     "name": "stdout",
     "output_type": "stream",
     "text": [
      "<class 'pandas.core.frame.DataFrame'>\n",
      "RangeIndex: 500 entries, 0 to 499\n",
      "Data columns (total 6 columns):\n",
      " #   Column        Non-Null Count  Dtype \n",
      "---  ------        --------------  ----- \n",
      " 0   customer_id   497 non-null    object\n",
      " 1   email         494 non-null    object\n",
      " 2   signup_date   496 non-null    object\n",
      " 3   gender        496 non-null    object\n",
      " 4   region        497 non-null    object\n",
      " 5   loyalty_tier  498 non-null    object\n",
      "dtypes: object(6)\n",
      "memory usage: 23.6+ KB\n"
     ]
    }
   ],
   "source": [
    "customer_df.info()"
   ]
  },
  {
   "cell_type": "code",
   "execution_count": 194,
   "id": "9b2de074-425e-412d-94d4-05515dadb691",
   "metadata": {},
   "outputs": [
    {
     "data": {
      "text/plain": [
       "(500, 6)"
      ]
     },
     "execution_count": 194,
     "metadata": {},
     "output_type": "execute_result"
    }
   ],
   "source": [
    "customer_df.shape"
   ]
  },
  {
   "cell_type": "markdown",
   "id": "4155fb61-c9e4-4080-98e7-a9132610a1f2",
   "metadata": {},
   "source": [
    "We can observe that there might be missing values since there are 500 observations but all columns don't have 500 entries."
   ]
  },
  {
   "cell_type": "code",
   "execution_count": 195,
   "id": "d34bba35-d8af-42af-82f1-b753276dbde5",
   "metadata": {},
   "outputs": [
    {
     "data": {
      "text/plain": [
       "customer_id     3\n",
       "email           6\n",
       "signup_date     4\n",
       "gender          4\n",
       "region          3\n",
       "loyalty_tier    2\n",
       "dtype: int64"
      ]
     },
     "execution_count": 195,
     "metadata": {},
     "output_type": "execute_result"
    }
   ],
   "source": [
    "customer_df.isnull().sum()"
   ]
  },
  {
   "cell_type": "markdown",
   "id": "bc94a342-a6dd-4d3c-967e-09ff19471c63",
   "metadata": {},
   "source": [
    "As expected, now let's check if there are any duplicates in the data"
   ]
  },
  {
   "cell_type": "code",
   "execution_count": 196,
   "id": "53c93775-d3ed-4547-a995-814a5b2a874f",
   "metadata": {},
   "outputs": [
    {
     "data": {
      "text/plain": [
       "0"
      ]
     },
     "execution_count": 196,
     "metadata": {},
     "output_type": "execute_result"
    }
   ],
   "source": [
    "customer_df.duplicated().sum()"
   ]
  },
  {
   "cell_type": "markdown",
   "id": "259bc422-0f1a-4058-9e6f-0857ae048209",
   "metadata": {},
   "source": [
    "No duplicates in this dataset"
   ]
  },
  {
   "cell_type": "markdown",
   "id": "9a0709e2-25f4-441b-b823-bf5d128c68d3",
   "metadata": {},
   "source": [
    "Now let's check what are the other issues in this data"
   ]
  },
  {
   "cell_type": "code",
   "execution_count": 197,
   "id": "5f707019-cf58-495a-8fbd-c5425630f1da",
   "metadata": {},
   "outputs": [
    {
     "data": {
      "text/plain": [
       "Index(['customer_id', 'email', 'signup_date', 'gender', 'region',\n",
       "       'loyalty_tier'],\n",
       "      dtype='object')"
      ]
     },
     "execution_count": 197,
     "metadata": {},
     "output_type": "execute_result"
    }
   ],
   "source": [
    "customer_df.columns"
   ]
  },
  {
   "attachments": {},
   "cell_type": "markdown",
   "id": "3caa2b9d-e461-43f6-8c73-6e226d0e6ac5",
   "metadata": {},
   "source": [
    "### signup_date\n",
    "\n"
   ]
  },
  {
   "cell_type": "code",
   "execution_count": 198,
   "id": "2a7c9ad8-dc1d-4660-a6bc-2314e2a3aaa8",
   "metadata": {},
   "outputs": [
    {
     "data": {
      "text/plain": [
       "4"
      ]
     },
     "execution_count": 198,
     "metadata": {},
     "output_type": "execute_result"
    }
   ],
   "source": [
    "customer_df['signup_date'].isna().sum()"
   ]
  },
  {
   "cell_type": "code",
   "execution_count": 199,
   "id": "095a2641-bb2f-44a3-9b8f-46a483504b20",
   "metadata": {},
   "outputs": [],
   "source": [
    "customer_df['signup_date'] = pd.to_datetime(customer_df['signup_date'], format='%d-%m-%y')"
   ]
  },
  {
   "attachments": {},
   "cell_type": "markdown",
   "id": "903590a8-d93f-4a11-9bd2-4bd6612fcde0",
   "metadata": {},
   "source": [
    "### gender column\n",
    "\n"
   ]
  },
  {
   "cell_type": "code",
   "execution_count": 200,
   "id": "a657981b-3557-475e-ba64-62096ffd1363",
   "metadata": {},
   "outputs": [
    {
     "data": {
      "text/plain": [
       "array(['Male', 'Female', 'male', 'FEMALE', 'Other', 'femle', nan],\n",
       "      dtype=object)"
      ]
     },
     "execution_count": 200,
     "metadata": {},
     "output_type": "execute_result"
    }
   ],
   "source": [
    "customer_df.gender.unique()"
   ]
  },
  {
   "cell_type": "markdown",
   "id": "662fcba4-5455-4b3d-b6fe-176d41e8e0ef",
   "metadata": {},
   "source": [
    "Text format is not consistent in the `gender` column"
   ]
  },
  {
   "cell_type": "code",
   "execution_count": 201,
   "id": "79b0d287-911c-432d-858f-0a66fa11f183",
   "metadata": {},
   "outputs": [
    {
     "data": {
      "text/plain": [
       "array(['Central', 'West', 'North', 'South', 'East', nan], dtype=object)"
      ]
     },
     "execution_count": 201,
     "metadata": {},
     "output_type": "execute_result"
    }
   ],
   "source": [
    "customer_df.region.unique()"
   ]
  },
  {
   "cell_type": "code",
   "execution_count": 202,
   "id": "e0768e2d-afbc-408d-b80e-24011c88de16",
   "metadata": {},
   "outputs": [
    {
     "data": {
      "text/plain": [
       "array(['Silver', ' gold ', 'GOLD', 'bronze', 'gld', nan, 'brnze',\n",
       "       'sllver'], dtype=object)"
      ]
     },
     "execution_count": 202,
     "metadata": {},
     "output_type": "execute_result"
    }
   ],
   "source": [
    "customer_df.loyalty_tier.unique()"
   ]
  },
  {
   "cell_type": "markdown",
   "id": "3ad8c2dc-b5bd-4fa4-b5e7-8312666b3bbb",
   "metadata": {},
   "source": [
    "Text format is not consistent in the `loyalty_tier` column"
   ]
  },
  {
   "cell_type": "markdown",
   "id": "5213729b-1b5b-434f-a1ed-062e40431376",
   "metadata": {},
   "source": [
    "Problems to fix:  \n",
    "- inconsistent text format\n",
    "- missing values"
   ]
  },
  {
   "attachments": {},
   "cell_type": "markdown",
   "id": "51f62b47-8a84-4c19-a24c-a4d16db08fe3",
   "metadata": {},
   "source": [
    "#### inconsistent text format\n",
    "\n"
   ]
  },
  {
   "cell_type": "code",
   "execution_count": 203,
   "id": "ea808c12-d010-44a0-9827-67882b414e48",
   "metadata": {},
   "outputs": [],
   "source": [
    "customer_df.gender = customer_df.gender.str.lower()"
   ]
  },
  {
   "cell_type": "code",
   "execution_count": 204,
   "id": "4d333863-3c26-4f90-aa53-1686a8596cf1",
   "metadata": {},
   "outputs": [
    {
     "data": {
      "text/plain": [
       "array(['male', 'female', 'other', 'femle', nan], dtype=object)"
      ]
     },
     "execution_count": 204,
     "metadata": {},
     "output_type": "execute_result"
    }
   ],
   "source": [
    "customer_df.gender.unique()"
   ]
  },
  {
   "cell_type": "code",
   "execution_count": 205,
   "id": "3e22b549-982b-4e2c-897a-96c87106cadd",
   "metadata": {},
   "outputs": [
    {
     "data": {
      "text/plain": [
       "4"
      ]
     },
     "execution_count": 205,
     "metadata": {},
     "output_type": "execute_result"
    }
   ],
   "source": [
    "customer_df.gender.isna().sum()"
   ]
  },
  {
   "cell_type": "code",
   "execution_count": 206,
   "id": "53c96835-def7-4868-9797-05e5e6c5d198",
   "metadata": {},
   "outputs": [],
   "source": [
    "customer_df.replace({\"gender\" : 'femle'}, \"female\", inplace=True)"
   ]
  },
  {
   "cell_type": "code",
   "execution_count": 207,
   "id": "b38c2dcd-7b46-4ee4-9a44-e4123c0e6778",
   "metadata": {},
   "outputs": [
    {
     "data": {
      "text/plain": [
       "'female'"
      ]
     },
     "execution_count": 207,
     "metadata": {},
     "output_type": "execute_result"
    }
   ],
   "source": [
    "customer_df.gender.mode()[0]"
   ]
  },
  {
   "cell_type": "code",
   "execution_count": 208,
   "id": "42be3412-d3c4-4efa-b8e5-28c2779301ef",
   "metadata": {},
   "outputs": [
    {
     "data": {
      "text/plain": [
       "gender\n",
       "female    250\n",
       "male      169\n",
       "other      77\n",
       "Name: count, dtype: int64"
      ]
     },
     "execution_count": 208,
     "metadata": {},
     "output_type": "execute_result"
    }
   ],
   "source": [
    "customer_df.gender.value_counts()"
   ]
  },
  {
   "cell_type": "code",
   "execution_count": 209,
   "id": "f202a8e3-06ea-4df5-b611-b0b5489cafb6",
   "metadata": {},
   "outputs": [
    {
     "name": "stderr",
     "output_type": "stream",
     "text": [
      "/tmp/ipykernel_347/167866279.py:1: FutureWarning: A value is trying to be set on a copy of a DataFrame or Series through chained assignment using an inplace method.\n",
      "The behavior will change in pandas 3.0. This inplace method will never work because the intermediate object on which we are setting values always behaves as a copy.\n",
      "\n",
      "For example, when doing 'df[col].method(value, inplace=True)', try using 'df.method({col: value}, inplace=True)' or df[col] = df[col].method(value) instead, to perform the operation inplace on the original object.\n",
      "\n",
      "\n",
      "  customer_df.gender.fillna(customer_df.gender.mode()[0], inplace=True)\n"
     ]
    }
   ],
   "source": [
    "customer_df.gender.fillna(customer_df.gender.mode()[0], inplace=True)"
   ]
  },
  {
   "cell_type": "code",
   "execution_count": 210,
   "id": "ba135302-8f0d-49ed-81bf-cb3b6599d3ba",
   "metadata": {},
   "outputs": [
    {
     "data": {
      "text/plain": [
       "0"
      ]
     },
     "execution_count": 210,
     "metadata": {},
     "output_type": "execute_result"
    }
   ],
   "source": [
    "customer_df.gender.isna().sum()"
   ]
  },
  {
   "cell_type": "code",
   "execution_count": 211,
   "id": "08967a99-b7a5-476e-8d46-7927abeffefd",
   "metadata": {},
   "outputs": [
    {
     "data": {
      "text/plain": [
       "array(['male', 'female', 'other'], dtype=object)"
      ]
     },
     "execution_count": 211,
     "metadata": {},
     "output_type": "execute_result"
    }
   ],
   "source": [
    "customer_df.gender.unique()"
   ]
  },
  {
   "attachments": {},
   "cell_type": "markdown",
   "id": "d73f62f1-d462-4614-a88b-0258e5bda735",
   "metadata": {},
   "source": [
    "### email column\n",
    "\n"
   ]
  },
  {
   "cell_type": "code",
   "execution_count": 212,
   "id": "e10e08c2-0937-49fe-96c2-f7670e67bf19",
   "metadata": {},
   "outputs": [
    {
     "data": {
      "text/plain": [
       "6"
      ]
     },
     "execution_count": 212,
     "metadata": {},
     "output_type": "execute_result"
    }
   ],
   "source": [
    "customer_df.email.isna().sum()"
   ]
  },
  {
   "cell_type": "code",
   "execution_count": 213,
   "id": "20fb6d65-8d61-4759-a284-1831588dbbf5",
   "metadata": {},
   "outputs": [
    {
     "name": "stderr",
     "output_type": "stream",
     "text": [
      "/tmp/ipykernel_347/2047012413.py:1: FutureWarning: A value is trying to be set on a copy of a DataFrame or Series through chained assignment using an inplace method.\n",
      "The behavior will change in pandas 3.0. This inplace method will never work because the intermediate object on which we are setting values always behaves as a copy.\n",
      "\n",
      "For example, when doing 'df[col].method(value, inplace=True)', try using 'df.method({col: value}, inplace=True)' or df[col] = df[col].method(value) instead, to perform the operation inplace on the original object.\n",
      "\n",
      "\n",
      "  customer_df.email.fillna(\"unknown\", inplace=True)\n"
     ]
    }
   ],
   "source": [
    "customer_df.email.fillna(\"unknown\", inplace=True)"
   ]
  },
  {
   "cell_type": "code",
   "execution_count": 214,
   "id": "0733e7f6-748a-4df2-9c77-eff53e98e462",
   "metadata": {},
   "outputs": [
    {
     "data": {
      "text/plain": [
       "0"
      ]
     },
     "execution_count": 214,
     "metadata": {},
     "output_type": "execute_result"
    }
   ],
   "source": [
    "customer_df.email.isna().sum()"
   ]
  },
  {
   "attachments": {},
   "cell_type": "markdown",
   "id": "07913bef-6e03-4e05-924e-9041997c0e43",
   "metadata": {},
   "source": [
    "### region column\n",
    "\n"
   ]
  },
  {
   "cell_type": "code",
   "execution_count": 215,
   "id": "703b902a-388b-4c31-a485-737851c55027",
   "metadata": {},
   "outputs": [
    {
     "data": {
      "text/plain": [
       "array(['Central', 'West', 'North', 'South', 'East', nan], dtype=object)"
      ]
     },
     "execution_count": 215,
     "metadata": {},
     "output_type": "execute_result"
    }
   ],
   "source": [
    "customer_df.region.unique()"
   ]
  },
  {
   "cell_type": "code",
   "execution_count": 216,
   "id": "ff8f8e5e-f889-44c5-bb4c-7d5f5433655c",
   "metadata": {},
   "outputs": [
    {
     "data": {
      "text/plain": [
       "'East'"
      ]
     },
     "execution_count": 216,
     "metadata": {},
     "output_type": "execute_result"
    }
   ],
   "source": [
    "customer_df.region.mode()[0]"
   ]
  },
  {
   "cell_type": "code",
   "execution_count": 217,
   "id": "52261f3c-aa5c-4d4e-b4fb-5ceabadd299c",
   "metadata": {},
   "outputs": [
    {
     "data": {
      "text/plain": [
       "region\n",
       "East       103\n",
       "North      101\n",
       "West       100\n",
       "South       99\n",
       "Central     94\n",
       "Name: count, dtype: int64"
      ]
     },
     "execution_count": 217,
     "metadata": {},
     "output_type": "execute_result"
    }
   ],
   "source": [
    "customer_df.region.value_counts()"
   ]
  },
  {
   "cell_type": "code",
   "execution_count": 218,
   "id": "618b1cbb-73cf-4cf0-b066-a4a73b028353",
   "metadata": {},
   "outputs": [
    {
     "name": "stderr",
     "output_type": "stream",
     "text": [
      "/tmp/ipykernel_347/3578319264.py:1: FutureWarning: A value is trying to be set on a copy of a DataFrame or Series through chained assignment using an inplace method.\n",
      "The behavior will change in pandas 3.0. This inplace method will never work because the intermediate object on which we are setting values always behaves as a copy.\n",
      "\n",
      "For example, when doing 'df[col].method(value, inplace=True)', try using 'df.method({col: value}, inplace=True)' or df[col] = df[col].method(value) instead, to perform the operation inplace on the original object.\n",
      "\n",
      "\n",
      "  customer_df.region.fillna(customer_df.region.mode()[0], inplace=True)\n"
     ]
    }
   ],
   "source": [
    "customer_df.region.fillna(customer_df.region.mode()[0], inplace=True)"
   ]
  },
  {
   "cell_type": "code",
   "execution_count": 219,
   "id": "75b52b3d-1214-4d4c-9b7d-2689ff48fd38",
   "metadata": {},
   "outputs": [
    {
     "data": {
      "text/plain": [
       "array(['Central', 'West', 'North', 'South', 'East'], dtype=object)"
      ]
     },
     "execution_count": 219,
     "metadata": {},
     "output_type": "execute_result"
    }
   ],
   "source": [
    "customer_df.region.unique()"
   ]
  },
  {
   "cell_type": "code",
   "execution_count": 220,
   "id": "407e8492-b7ec-48e4-be8e-d891ccbf531b",
   "metadata": {},
   "outputs": [
    {
     "data": {
      "text/plain": [
       "0"
      ]
     },
     "execution_count": 220,
     "metadata": {},
     "output_type": "execute_result"
    }
   ],
   "source": [
    "customer_df.region.isna().sum()"
   ]
  },
  {
   "attachments": {},
   "cell_type": "markdown",
   "id": "80d6cacf-6fe9-49d7-8ba1-b068fd0bd6ff",
   "metadata": {},
   "source": [
    "### loyalty_tier\n",
    "\n"
   ]
  },
  {
   "cell_type": "code",
   "execution_count": 221,
   "id": "7651ca77-ad9e-4187-8850-abedd1553d49",
   "metadata": {},
   "outputs": [
    {
     "data": {
      "text/plain": [
       "array(['Silver', ' gold ', 'GOLD', 'bronze', 'gld', nan, 'brnze',\n",
       "       'sllver'], dtype=object)"
      ]
     },
     "execution_count": 221,
     "metadata": {},
     "output_type": "execute_result"
    }
   ],
   "source": [
    "customer_df.loyalty_tier.unique()"
   ]
  },
  {
   "cell_type": "code",
   "execution_count": 222,
   "id": "c4f97d4c-2546-409f-99f3-36dca1a151f0",
   "metadata": {},
   "outputs": [],
   "source": [
    "customer_df.loyalty_tier = customer_df.loyalty_tier.str.lower()"
   ]
  },
  {
   "cell_type": "code",
   "execution_count": 223,
   "id": "9db07b7e-74c4-4d94-95a5-668c1acc25d9",
   "metadata": {},
   "outputs": [],
   "source": [
    "customer_df.replace({\"loyalty_tier\" :\"gld\"}, \"gold\", inplace=True)\n",
    "customer_df.replace({\"loyalty_tier\" :\"brnze\"}, \"bronze\", inplace=True)\n",
    "customer_df.replace({\"loyalty_tier\" :\"sllver\"}, \"silver\", inplace=True)\n"
   ]
  },
  {
   "cell_type": "code",
   "execution_count": 224,
   "id": "052270b3-3c5f-413f-8253-9058482c99ce",
   "metadata": {},
   "outputs": [
    {
     "data": {
      "text/plain": [
       "array(['silver', ' gold ', 'gold', 'bronze', nan], dtype=object)"
      ]
     },
     "execution_count": 224,
     "metadata": {},
     "output_type": "execute_result"
    }
   ],
   "source": [
    "customer_df.loyalty_tier.unique()"
   ]
  },
  {
   "cell_type": "code",
   "execution_count": 225,
   "id": "d8e289f6-a0a1-44b7-854c-504f68b37ece",
   "metadata": {},
   "outputs": [
    {
     "data": {
      "text/plain": [
       "loyalty_tier\n",
       "gold      151\n",
       "silver    119\n",
       " gold     114\n",
       "bronze    114\n",
       "Name: count, dtype: int64"
      ]
     },
     "execution_count": 225,
     "metadata": {},
     "output_type": "execute_result"
    }
   ],
   "source": [
    "customer_df.loyalty_tier.value_counts()"
   ]
  },
  {
   "cell_type": "code",
   "execution_count": 226,
   "id": "c2b44238-a246-49a7-b14c-23ac012e7f9e",
   "metadata": {},
   "outputs": [],
   "source": [
    "customer_df.loyalty_tier = customer_df.loyalty_tier.str.strip()"
   ]
  },
  {
   "cell_type": "code",
   "execution_count": 227,
   "id": "539bc77a-6075-4e4d-95e5-8a65a116a0b4",
   "metadata": {},
   "outputs": [
    {
     "data": {
      "text/plain": [
       "loyalty_tier\n",
       "gold      265\n",
       "silver    119\n",
       "bronze    114\n",
       "Name: count, dtype: int64"
      ]
     },
     "execution_count": 227,
     "metadata": {},
     "output_type": "execute_result"
    }
   ],
   "source": [
    "customer_df.loyalty_tier.value_counts()"
   ]
  },
  {
   "cell_type": "code",
   "execution_count": 228,
   "id": "2010a7fa-6942-43b7-9f5c-a542cee25dfe",
   "metadata": {},
   "outputs": [
    {
     "name": "stderr",
     "output_type": "stream",
     "text": [
      "/tmp/ipykernel_347/1415719829.py:1: FutureWarning: A value is trying to be set on a copy of a DataFrame or Series through chained assignment using an inplace method.\n",
      "The behavior will change in pandas 3.0. This inplace method will never work because the intermediate object on which we are setting values always behaves as a copy.\n",
      "\n",
      "For example, when doing 'df[col].method(value, inplace=True)', try using 'df.method({col: value}, inplace=True)' or df[col] = df[col].method(value) instead, to perform the operation inplace on the original object.\n",
      "\n",
      "\n",
      "  customer_df.loyalty_tier.fillna(customer_df.loyalty_tier.mode()[0], inplace=True)\n"
     ]
    }
   ],
   "source": [
    "customer_df.loyalty_tier.fillna(customer_df.loyalty_tier.mode()[0], inplace=True)"
   ]
  },
  {
   "cell_type": "code",
   "execution_count": 229,
   "id": "e10f2f80-3288-4e13-911d-0b6ebe1fe59c",
   "metadata": {},
   "outputs": [
    {
     "data": {
      "text/plain": [
       "0"
      ]
     },
     "execution_count": 229,
     "metadata": {},
     "output_type": "execute_result"
    }
   ],
   "source": [
    "customer_df.loyalty_tier.isna().sum()"
   ]
  },
  {
   "attachments": {},
   "cell_type": "markdown",
   "id": "4a37df86-53e3-4850-a2a2-ee24f296c3ef",
   "metadata": {},
   "source": [
    "### customer_id\n",
    "\n"
   ]
  },
  {
   "cell_type": "code",
   "execution_count": 230,
   "id": "e9a9e45d-aa2f-4d21-9529-0e9fa062ff6d",
   "metadata": {},
   "outputs": [
    {
     "data": {
      "text/plain": [
       "3"
      ]
     },
     "execution_count": 230,
     "metadata": {},
     "output_type": "execute_result"
    }
   ],
   "source": [
    "customer_df.customer_id.isna().sum()"
   ]
  },
  {
   "cell_type": "markdown",
   "id": "308eeb13-c5fe-4043-b966-b2538b538f49",
   "metadata": {},
   "source": [
    "The big issue here is we are going to merge the dataframes later and assigning missing values to `unknown` will cause problems.  \n",
    "Thus i will drop them."
   ]
  },
  {
   "cell_type": "code",
   "execution_count": 231,
   "id": "3f7e6912-514c-4ad4-8640-1948a5d5fc06",
   "metadata": {},
   "outputs": [],
   "source": [
    "customer_df = customer_df.dropna(subset=[\"customer_id\"])"
   ]
  },
  {
   "cell_type": "code",
   "execution_count": 232,
   "id": "36f38bc4-82b4-4a1d-b593-80a8a306b0c5",
   "metadata": {},
   "outputs": [
    {
     "data": {
      "text/plain": [
       "0"
      ]
     },
     "execution_count": 232,
     "metadata": {},
     "output_type": "execute_result"
    }
   ],
   "source": [
    "customer_df.customer_id.isna().sum()"
   ]
  },
  {
   "attachments": {},
   "cell_type": "markdown",
   "id": "f2878e38-83b5-4181-8a6c-ade45104021a",
   "metadata": {},
   "source": [
    "## product_df\n",
    "\n"
   ]
  },
  {
   "cell_type": "code",
   "execution_count": 233,
   "id": "e8be3258-ab9d-4687-94fb-8a94309e7134",
   "metadata": {},
   "outputs": [
    {
     "name": "stdout",
     "output_type": "stream",
     "text": [
      "<class 'pandas.core.frame.DataFrame'>\n",
      "RangeIndex: 30 entries, 0 to 29\n",
      "Data columns (total 6 columns):\n",
      " #   Column         Non-Null Count  Dtype  \n",
      "---  ------         --------------  -----  \n",
      " 0   product_id     30 non-null     object \n",
      " 1   product_name   30 non-null     object \n",
      " 2   category       30 non-null     object \n",
      " 3   launch_date    30 non-null     object \n",
      " 4   base_price     30 non-null     float64\n",
      " 5   supplier_code  30 non-null     object \n",
      "dtypes: float64(1), object(5)\n",
      "memory usage: 1.5+ KB\n"
     ]
    }
   ],
   "source": [
    "product_df.info()"
   ]
  },
  {
   "cell_type": "code",
   "execution_count": 234,
   "id": "2bda61d5-73c1-4790-99e4-f8c998bb2c56",
   "metadata": {},
   "outputs": [
    {
     "data": {
      "text/plain": [
       "(30, 6)"
      ]
     },
     "execution_count": 234,
     "metadata": {},
     "output_type": "execute_result"
    }
   ],
   "source": [
    "product_df.shape"
   ]
  },
  {
   "cell_type": "markdown",
   "id": "9299f555-af00-448a-8bcc-f883e04c6e9b",
   "metadata": {},
   "source": [
    "It seems there are no missing value, let's check"
   ]
  },
  {
   "cell_type": "code",
   "execution_count": 235,
   "id": "9f27d6a7-d24b-4d23-be78-e6e0d7750aab",
   "metadata": {},
   "outputs": [
    {
     "data": {
      "text/plain": [
       "product_id       0\n",
       "product_name     0\n",
       "category         0\n",
       "launch_date      0\n",
       "base_price       0\n",
       "supplier_code    0\n",
       "dtype: int64"
      ]
     },
     "execution_count": 235,
     "metadata": {},
     "output_type": "execute_result"
    }
   ],
   "source": [
    "product_df.isna().sum()"
   ]
  },
  {
   "cell_type": "code",
   "execution_count": 236,
   "id": "5d393ab7-a8b2-485b-828a-8f30683bde22",
   "metadata": {},
   "outputs": [
    {
     "data": {
      "text/plain": [
       "0"
      ]
     },
     "execution_count": 236,
     "metadata": {},
     "output_type": "execute_result"
    }
   ],
   "source": [
    "product_df.duplicated().sum()"
   ]
  },
  {
   "cell_type": "markdown",
   "id": "256b2b3f-eef6-4f66-a5e2-6fcbab77bf93",
   "metadata": {},
   "source": [
    "Neither missing values nor duplicates in the data"
   ]
  },
  {
   "cell_type": "code",
   "execution_count": 237,
   "id": "8836a558-ef00-4af7-b770-ed9182c4f153",
   "metadata": {},
   "outputs": [
    {
     "data": {
      "text/html": [
       "<div>\n",
       "<style scoped>\n",
       "    .dataframe tbody tr th:only-of-type {\n",
       "        vertical-align: middle;\n",
       "    }\n",
       "\n",
       "    .dataframe tbody tr th {\n",
       "        vertical-align: top;\n",
       "    }\n",
       "\n",
       "    .dataframe thead th {\n",
       "        text-align: right;\n",
       "    }\n",
       "</style>\n",
       "<table border=\"1\" class=\"dataframe\">\n",
       "  <thead>\n",
       "    <tr style=\"text-align: right;\">\n",
       "      <th></th>\n",
       "      <th>product_id</th>\n",
       "      <th>product_name</th>\n",
       "      <th>category</th>\n",
       "      <th>launch_date</th>\n",
       "      <th>base_price</th>\n",
       "      <th>supplier_code</th>\n",
       "    </tr>\n",
       "  </thead>\n",
       "  <tbody>\n",
       "    <tr>\n",
       "      <th>0</th>\n",
       "      <td>P0001</td>\n",
       "      <td>Storage Product 39</td>\n",
       "      <td>Storage</td>\n",
       "      <td>11-03-25</td>\n",
       "      <td>15.88</td>\n",
       "      <td>S339</td>\n",
       "    </tr>\n",
       "    <tr>\n",
       "      <th>1</th>\n",
       "      <td>P0002</td>\n",
       "      <td>Cleaning Product 82</td>\n",
       "      <td>Cleaning</td>\n",
       "      <td>18-08-24</td>\n",
       "      <td>34.23</td>\n",
       "      <td>S974</td>\n",
       "    </tr>\n",
       "    <tr>\n",
       "      <th>2</th>\n",
       "      <td>P0003</td>\n",
       "      <td>Cleaning Product 85</td>\n",
       "      <td>Cleaning</td>\n",
       "      <td>15-07-24</td>\n",
       "      <td>7.92</td>\n",
       "      <td>S745</td>\n",
       "    </tr>\n",
       "    <tr>\n",
       "      <th>3</th>\n",
       "      <td>P0004</td>\n",
       "      <td>Kitchen Product 82</td>\n",
       "      <td>Kitchen</td>\n",
       "      <td>19-04-25</td>\n",
       "      <td>9.13</td>\n",
       "      <td>S589</td>\n",
       "    </tr>\n",
       "    <tr>\n",
       "      <th>4</th>\n",
       "      <td>P0005</td>\n",
       "      <td>Personal Care Product 1</td>\n",
       "      <td>Personal Care</td>\n",
       "      <td>20-10-24</td>\n",
       "      <td>31.10</td>\n",
       "      <td>S559</td>\n",
       "    </tr>\n",
       "  </tbody>\n",
       "</table>\n",
       "</div>"
      ],
      "text/plain": [
       "  product_id             product_name       category launch_date  base_price  \\\n",
       "0      P0001       Storage Product 39        Storage    11-03-25       15.88   \n",
       "1      P0002      Cleaning Product 82       Cleaning    18-08-24       34.23   \n",
       "2      P0003      Cleaning Product 85       Cleaning    15-07-24        7.92   \n",
       "3      P0004       Kitchen Product 82        Kitchen    19-04-25        9.13   \n",
       "4      P0005  Personal Care Product 1  Personal Care    20-10-24       31.10   \n",
       "\n",
       "  supplier_code  \n",
       "0          S339  \n",
       "1          S974  \n",
       "2          S745  \n",
       "3          S589  \n",
       "4          S559  "
      ]
     },
     "execution_count": 237,
     "metadata": {},
     "output_type": "execute_result"
    }
   ],
   "source": [
    "product_df.head()"
   ]
  },
  {
   "cell_type": "code",
   "execution_count": 238,
   "id": "d7ed21c2-ddf1-4337-8fd2-95daa54a4c82",
   "metadata": {},
   "outputs": [
    {
     "data": {
      "text/html": [
       "<div>\n",
       "<style scoped>\n",
       "    .dataframe tbody tr th:only-of-type {\n",
       "        vertical-align: middle;\n",
       "    }\n",
       "\n",
       "    .dataframe tbody tr th {\n",
       "        vertical-align: top;\n",
       "    }\n",
       "\n",
       "    .dataframe thead th {\n",
       "        text-align: right;\n",
       "    }\n",
       "</style>\n",
       "<table border=\"1\" class=\"dataframe\">\n",
       "  <thead>\n",
       "    <tr style=\"text-align: right;\">\n",
       "      <th></th>\n",
       "      <th>product_id</th>\n",
       "      <th>product_name</th>\n",
       "      <th>category</th>\n",
       "      <th>launch_date</th>\n",
       "      <th>base_price</th>\n",
       "      <th>supplier_code</th>\n",
       "    </tr>\n",
       "  </thead>\n",
       "  <tbody>\n",
       "    <tr>\n",
       "      <th>25</th>\n",
       "      <td>P0026</td>\n",
       "      <td>Storage Product 50</td>\n",
       "      <td>Storage</td>\n",
       "      <td>08-02-25</td>\n",
       "      <td>27.06</td>\n",
       "      <td>S952</td>\n",
       "    </tr>\n",
       "    <tr>\n",
       "      <th>26</th>\n",
       "      <td>P0027</td>\n",
       "      <td>Outdoors Product 55</td>\n",
       "      <td>Outdoors</td>\n",
       "      <td>21-09-24</td>\n",
       "      <td>23.05</td>\n",
       "      <td>S127</td>\n",
       "    </tr>\n",
       "    <tr>\n",
       "      <th>27</th>\n",
       "      <td>P0028</td>\n",
       "      <td>Outdoors Product 53</td>\n",
       "      <td>Outdoors</td>\n",
       "      <td>10-04-25</td>\n",
       "      <td>34.28</td>\n",
       "      <td>S587</td>\n",
       "    </tr>\n",
       "    <tr>\n",
       "      <th>28</th>\n",
       "      <td>P0029</td>\n",
       "      <td>Cleaning Product 69</td>\n",
       "      <td>Cleaning</td>\n",
       "      <td>15-03-25</td>\n",
       "      <td>23.41</td>\n",
       "      <td>S424</td>\n",
       "    </tr>\n",
       "    <tr>\n",
       "      <th>29</th>\n",
       "      <td>P0030</td>\n",
       "      <td>Cleaning Product 72</td>\n",
       "      <td>Cleaning</td>\n",
       "      <td>04-04-25</td>\n",
       "      <td>9.77</td>\n",
       "      <td>S455</td>\n",
       "    </tr>\n",
       "  </tbody>\n",
       "</table>\n",
       "</div>"
      ],
      "text/plain": [
       "   product_id         product_name  category launch_date  base_price  \\\n",
       "25      P0026   Storage Product 50   Storage    08-02-25       27.06   \n",
       "26      P0027  Outdoors Product 55  Outdoors    21-09-24       23.05   \n",
       "27      P0028  Outdoors Product 53  Outdoors    10-04-25       34.28   \n",
       "28      P0029  Cleaning Product 69  Cleaning    15-03-25       23.41   \n",
       "29      P0030  Cleaning Product 72  Cleaning    04-04-25        9.77   \n",
       "\n",
       "   supplier_code  \n",
       "25          S952  \n",
       "26          S127  \n",
       "27          S587  \n",
       "28          S424  \n",
       "29          S455  "
      ]
     },
     "execution_count": 238,
     "metadata": {},
     "output_type": "execute_result"
    }
   ],
   "source": [
    "product_df.tail()"
   ]
  },
  {
   "cell_type": "code",
   "execution_count": 239,
   "id": "7b45def0-94b3-4ff5-a5f9-77eedc8a1f23",
   "metadata": {},
   "outputs": [],
   "source": [
    "product_df['launch_date'] = pd.to_datetime(product_df['launch_date'], format=\"%d-%m-%y\")"
   ]
  },
  {
   "attachments": {},
   "cell_type": "markdown",
   "id": "8a224105-521d-453a-80c2-de929257dde6",
   "metadata": {},
   "source": [
    "### Checking the columns\n",
    "\n"
   ]
  },
  {
   "cell_type": "code",
   "execution_count": 240,
   "id": "486a8813-6519-4082-bc13-006a662c67f1",
   "metadata": {},
   "outputs": [
    {
     "data": {
      "text/plain": [
       "array(['Storage', 'Cleaning', 'Kitchen', 'Personal Care', 'Outdoors'],\n",
       "      dtype=object)"
      ]
     },
     "execution_count": 240,
     "metadata": {},
     "output_type": "execute_result"
    }
   ],
   "source": [
    "product_df.category.unique()"
   ]
  },
  {
   "cell_type": "code",
   "execution_count": 241,
   "id": "694ee0be-c0f5-4ce9-a404-fe4a77a48c8d",
   "metadata": {},
   "outputs": [
    {
     "data": {
      "text/plain": [
       "array(['Storage Product 39', 'Cleaning Product 82', 'Cleaning Product 85',\n",
       "       'Kitchen Product 82', 'Personal Care Product 1',\n",
       "       'Cleaning Product 16', 'Personal Care Product 64',\n",
       "       'Storage Product 47', 'Outdoors Product 13', 'Cleaning Product 70',\n",
       "       'Kitchen Product 53', 'Cleaning Product 29', 'Cleaning Product 94',\n",
       "       'Outdoors Product 91', 'Storage Product 10', 'Cleaning Product 53',\n",
       "       'Personal Care Product 11', 'Storage Product 37',\n",
       "       'Kitchen Product 42', 'Cleaning Product 40', 'Kitchen Product 70',\n",
       "       'Cleaning Product 86', 'Outdoors Product 32', 'Storage Product 87',\n",
       "       'Cleaning Product 84', 'Storage Product 50', 'Outdoors Product 55',\n",
       "       'Outdoors Product 53', 'Cleaning Product 69',\n",
       "       'Cleaning Product 72'], dtype=object)"
      ]
     },
     "execution_count": 241,
     "metadata": {},
     "output_type": "execute_result"
    }
   ],
   "source": [
    "product_df.product_name.unique()"
   ]
  },
  {
   "cell_type": "markdown",
   "id": "fc1508f3-6f02-40d8-a89a-d1401b7db33f",
   "metadata": {},
   "source": [
    "Checking all values are greater than 0"
   ]
  },
  {
   "cell_type": "code",
   "execution_count": 242,
   "id": "91e51406-dbbe-45a7-a6d8-185b727475c0",
   "metadata": {},
   "outputs": [
    {
     "data": {
      "text/plain": [
       "0"
      ]
     },
     "execution_count": 242,
     "metadata": {},
     "output_type": "execute_result"
    }
   ],
   "source": [
    "(product_df.base_price < 0).sum()"
   ]
  },
  {
   "cell_type": "code",
   "execution_count": 243,
   "id": "78ccf6a9-79fd-4286-a9b5-e443113af5f6",
   "metadata": {},
   "outputs": [
    {
     "data": {
      "text/plain": [
       "array(['S339', 'S974', 'S745', 'S589', 'S559', 'S980', 'S379', 'S788',\n",
       "       'S695', 'S321', 'S645', 'S481', 'S914', 'S876', 'S466', 'S715',\n",
       "       'S594', 'S767', 'S993', 'S492', 'S643', 'S924', 'S907', 'S558',\n",
       "       'S503', 'S952', 'S127', 'S587', 'S424', 'S455'], dtype=object)"
      ]
     },
     "execution_count": 243,
     "metadata": {},
     "output_type": "execute_result"
    }
   ],
   "source": [
    "product_df.supplier_code.unique()"
   ]
  },
  {
   "cell_type": "markdown",
   "id": "1a94f721-bb61-4a9b-997c-9db5d43296ae",
   "metadata": {},
   "source": [
    "## sales_df\n"
   ]
  },
  {
   "cell_type": "code",
   "execution_count": 244,
   "id": "8db972fd-da5d-46b5-a9c6-98ff8ee1904c",
   "metadata": {},
   "outputs": [
    {
     "data": {
      "text/html": [
       "<div>\n",
       "<style scoped>\n",
       "    .dataframe tbody tr th:only-of-type {\n",
       "        vertical-align: middle;\n",
       "    }\n",
       "\n",
       "    .dataframe tbody tr th {\n",
       "        vertical-align: top;\n",
       "    }\n",
       "\n",
       "    .dataframe thead th {\n",
       "        text-align: right;\n",
       "    }\n",
       "</style>\n",
       "<table border=\"1\" class=\"dataframe\">\n",
       "  <thead>\n",
       "    <tr style=\"text-align: right;\">\n",
       "      <th></th>\n",
       "      <th>order_id</th>\n",
       "      <th>customer_id</th>\n",
       "      <th>product_id</th>\n",
       "      <th>quantity</th>\n",
       "      <th>unit_price</th>\n",
       "      <th>order_date</th>\n",
       "      <th>delivery_status</th>\n",
       "      <th>payment_method</th>\n",
       "      <th>region</th>\n",
       "      <th>discount_applied</th>\n",
       "    </tr>\n",
       "  </thead>\n",
       "  <tbody>\n",
       "    <tr>\n",
       "      <th>0</th>\n",
       "      <td>O966977</td>\n",
       "      <td>C00397</td>\n",
       "      <td>P0022</td>\n",
       "      <td>3</td>\n",
       "      <td>39.25</td>\n",
       "      <td>06-07-25</td>\n",
       "      <td>Delivered</td>\n",
       "      <td>PayPal</td>\n",
       "      <td>Central</td>\n",
       "      <td>0.00</td>\n",
       "    </tr>\n",
       "    <tr>\n",
       "      <th>1</th>\n",
       "      <td>O696648</td>\n",
       "      <td>C00236</td>\n",
       "      <td>P0023</td>\n",
       "      <td>5</td>\n",
       "      <td>18.92</td>\n",
       "      <td>06-07-25</td>\n",
       "      <td>DELAYED</td>\n",
       "      <td>credit card</td>\n",
       "      <td>North</td>\n",
       "      <td>0.00</td>\n",
       "    </tr>\n",
       "    <tr>\n",
       "      <th>2</th>\n",
       "      <td>O202644</td>\n",
       "      <td>C00492</td>\n",
       "      <td>P0011</td>\n",
       "      <td>1</td>\n",
       "      <td>29.68</td>\n",
       "      <td>06-07-25</td>\n",
       "      <td>delivered</td>\n",
       "      <td>Bank Transfer</td>\n",
       "      <td>North</td>\n",
       "      <td>0.15</td>\n",
       "    </tr>\n",
       "    <tr>\n",
       "      <th>3</th>\n",
       "      <td>O501803</td>\n",
       "      <td>C00031</td>\n",
       "      <td>P0003</td>\n",
       "      <td>1</td>\n",
       "      <td>32.76</td>\n",
       "      <td>06-07-25</td>\n",
       "      <td>Cancelled</td>\n",
       "      <td>Credit Card</td>\n",
       "      <td>Central</td>\n",
       "      <td>0.20</td>\n",
       "    </tr>\n",
       "    <tr>\n",
       "      <th>4</th>\n",
       "      <td>O322242</td>\n",
       "      <td>C00495</td>\n",
       "      <td>P0016</td>\n",
       "      <td>1</td>\n",
       "      <td>47.62</td>\n",
       "      <td>06-07-25</td>\n",
       "      <td>DELAYED</td>\n",
       "      <td>Credit Card</td>\n",
       "      <td>West</td>\n",
       "      <td>0.20</td>\n",
       "    </tr>\n",
       "  </tbody>\n",
       "</table>\n",
       "</div>"
      ],
      "text/plain": [
       "  order_id customer_id product_id quantity  unit_price order_date  \\\n",
       "0  O966977      C00397      P0022        3       39.25   06-07-25   \n",
       "1  O696648      C00236      P0023        5       18.92   06-07-25   \n",
       "2  O202644      C00492      P0011        1       29.68   06-07-25   \n",
       "3  O501803      C00031      P0003        1       32.76   06-07-25   \n",
       "4  O322242      C00495      P0016        1       47.62   06-07-25   \n",
       "\n",
       "  delivery_status payment_method   region  discount_applied  \n",
       "0       Delivered         PayPal  Central              0.00  \n",
       "1         DELAYED    credit card    North              0.00  \n",
       "2       delivered  Bank Transfer    North              0.15  \n",
       "3      Cancelled     Credit Card  Central              0.20  \n",
       "4         DELAYED    Credit Card     West              0.20  "
      ]
     },
     "execution_count": 244,
     "metadata": {},
     "output_type": "execute_result"
    }
   ],
   "source": [
    "sales_df.head()"
   ]
  },
  {
   "cell_type": "code",
   "execution_count": 245,
   "id": "efba4813-821e-443f-9841-c4a93868ff01",
   "metadata": {},
   "outputs": [
    {
     "data": {
      "text/html": [
       "<div>\n",
       "<style scoped>\n",
       "    .dataframe tbody tr th:only-of-type {\n",
       "        vertical-align: middle;\n",
       "    }\n",
       "\n",
       "    .dataframe tbody tr th {\n",
       "        vertical-align: top;\n",
       "    }\n",
       "\n",
       "    .dataframe thead th {\n",
       "        text-align: right;\n",
       "    }\n",
       "</style>\n",
       "<table border=\"1\" class=\"dataframe\">\n",
       "  <thead>\n",
       "    <tr style=\"text-align: right;\">\n",
       "      <th></th>\n",
       "      <th>order_id</th>\n",
       "      <th>customer_id</th>\n",
       "      <th>product_id</th>\n",
       "      <th>quantity</th>\n",
       "      <th>unit_price</th>\n",
       "      <th>order_date</th>\n",
       "      <th>delivery_status</th>\n",
       "      <th>payment_method</th>\n",
       "      <th>region</th>\n",
       "      <th>discount_applied</th>\n",
       "    </tr>\n",
       "  </thead>\n",
       "  <tbody>\n",
       "    <tr>\n",
       "      <th>2995</th>\n",
       "      <td>O868860</td>\n",
       "      <td>C00233</td>\n",
       "      <td>P0001</td>\n",
       "      <td>5</td>\n",
       "      <td>43.40</td>\n",
       "      <td>06-07-25</td>\n",
       "      <td>Delivered</td>\n",
       "      <td>Bank Transfer</td>\n",
       "      <td>West</td>\n",
       "      <td>0.2</td>\n",
       "    </tr>\n",
       "    <tr>\n",
       "      <th>2996</th>\n",
       "      <td>O949709</td>\n",
       "      <td>C00246</td>\n",
       "      <td>P0029</td>\n",
       "      <td>4</td>\n",
       "      <td>34.04</td>\n",
       "      <td>06-07-25</td>\n",
       "      <td>DELAYED</td>\n",
       "      <td>Bank Transfer</td>\n",
       "      <td>West</td>\n",
       "      <td>0.2</td>\n",
       "    </tr>\n",
       "    <tr>\n",
       "      <th>2997</th>\n",
       "      <td>O763639</td>\n",
       "      <td>C00182</td>\n",
       "      <td>P0026</td>\n",
       "      <td>1</td>\n",
       "      <td>42.34</td>\n",
       "      <td>06-07-25</td>\n",
       "      <td>Delivered</td>\n",
       "      <td>credit card</td>\n",
       "      <td>South</td>\n",
       "      <td>0.0</td>\n",
       "    </tr>\n",
       "    <tr>\n",
       "      <th>2998</th>\n",
       "      <td>O753958</td>\n",
       "      <td>C00074</td>\n",
       "      <td>P0003</td>\n",
       "      <td>5</td>\n",
       "      <td>35.96</td>\n",
       "      <td>06-07-25</td>\n",
       "      <td>Delivered</td>\n",
       "      <td>Credit Card</td>\n",
       "      <td>Central</td>\n",
       "      <td>0.0</td>\n",
       "    </tr>\n",
       "    <tr>\n",
       "      <th>2999</th>\n",
       "      <td>O929624</td>\n",
       "      <td>C00405</td>\n",
       "      <td>P0004</td>\n",
       "      <td>3</td>\n",
       "      <td>43.23</td>\n",
       "      <td>06-07-25</td>\n",
       "      <td>delivered</td>\n",
       "      <td>Credit Card</td>\n",
       "      <td>West</td>\n",
       "      <td>0.1</td>\n",
       "    </tr>\n",
       "  </tbody>\n",
       "</table>\n",
       "</div>"
      ],
      "text/plain": [
       "     order_id customer_id product_id quantity  unit_price order_date  \\\n",
       "2995  O868860      C00233      P0001        5       43.40   06-07-25   \n",
       "2996  O949709      C00246      P0029        4       34.04   06-07-25   \n",
       "2997  O763639      C00182      P0026        1       42.34   06-07-25   \n",
       "2998  O753958      C00074      P0003        5       35.96   06-07-25   \n",
       "2999  O929624      C00405      P0004        3       43.23   06-07-25   \n",
       "\n",
       "     delivery_status payment_method   region  discount_applied  \n",
       "2995       Delivered  Bank Transfer     West               0.2  \n",
       "2996         DELAYED  Bank Transfer     West               0.2  \n",
       "2997       Delivered    credit card    South               0.0  \n",
       "2998       Delivered    Credit Card  Central               0.0  \n",
       "2999       delivered    Credit Card     West               0.1  "
      ]
     },
     "execution_count": 245,
     "metadata": {},
     "output_type": "execute_result"
    }
   ],
   "source": [
    "sales_df.tail()"
   ]
  },
  {
   "cell_type": "code",
   "execution_count": 246,
   "id": "91000e01-98e5-4957-8b09-6f20a4c5672a",
   "metadata": {},
   "outputs": [
    {
     "name": "stdout",
     "output_type": "stream",
     "text": [
      "<class 'pandas.core.frame.DataFrame'>\n",
      "RangeIndex: 3000 entries, 0 to 2999\n",
      "Data columns (total 10 columns):\n",
      " #   Column            Non-Null Count  Dtype  \n",
      "---  ------            --------------  -----  \n",
      " 0   order_id          2999 non-null   object \n",
      " 1   customer_id       2998 non-null   object \n",
      " 2   product_id        2995 non-null   object \n",
      " 3   quantity          2997 non-null   object \n",
      " 4   unit_price        2999 non-null   float64\n",
      " 5   order_date        2997 non-null   object \n",
      " 6   delivery_status   2997 non-null   object \n",
      " 7   payment_method    2997 non-null   object \n",
      " 8   region            3000 non-null   object \n",
      " 9   discount_applied  2483 non-null   float64\n",
      "dtypes: float64(2), object(8)\n",
      "memory usage: 234.5+ KB\n"
     ]
    }
   ],
   "source": [
    "sales_df.info()"
   ]
  },
  {
   "cell_type": "code",
   "execution_count": 247,
   "id": "e9069913-52c9-4968-a32b-f943f63e505d",
   "metadata": {},
   "outputs": [
    {
     "data": {
      "text/plain": [
       "(3000, 10)"
      ]
     },
     "execution_count": 247,
     "metadata": {},
     "output_type": "execute_result"
    }
   ],
   "source": [
    "sales_df.shape"
   ]
  },
  {
   "cell_type": "code",
   "execution_count": 248,
   "id": "b73b2a16-039b-43ee-9636-f889fe6e8e31",
   "metadata": {},
   "outputs": [
    {
     "data": {
      "text/plain": [
       "order_id              1\n",
       "customer_id           2\n",
       "product_id            5\n",
       "quantity              3\n",
       "unit_price            1\n",
       "order_date            3\n",
       "delivery_status       3\n",
       "payment_method        3\n",
       "region                0\n",
       "discount_applied    517\n",
       "dtype: int64"
      ]
     },
     "execution_count": 248,
     "metadata": {},
     "output_type": "execute_result"
    }
   ],
   "source": [
    "sales_df.isna().sum()"
   ]
  },
  {
   "cell_type": "code",
   "execution_count": 249,
   "id": "2b74fa3e-6169-4288-af85-d69635a11468",
   "metadata": {},
   "outputs": [
    {
     "name": "stderr",
     "output_type": "stream",
     "text": [
      "/tmp/ipykernel_347/1228291541.py:1: FutureWarning: A value is trying to be set on a copy of a DataFrame or Series through chained assignment using an inplace method.\n",
      "The behavior will change in pandas 3.0. This inplace method will never work because the intermediate object on which we are setting values always behaves as a copy.\n",
      "\n",
      "For example, when doing 'df[col].method(value, inplace=True)', try using 'df.method({col: value}, inplace=True)' or df[col] = df[col].method(value) instead, to perform the operation inplace on the original object.\n",
      "\n",
      "\n",
      "  sales_df[\"order_date\"].fillna(\"06-07-25\", inplace=True)\n"
     ]
    }
   ],
   "source": [
    "sales_df[\"order_date\"].fillna(\"06-07-25\", inplace=True)"
   ]
  },
  {
   "cell_type": "code",
   "execution_count": 250,
   "id": "0b589a6a-672c-4e05-a6ef-32196115e17e",
   "metadata": {},
   "outputs": [],
   "source": [
    "sales_df[\"order_date\"] = pd.to_datetime(sales_df[\"order_date\"], format=\"%d-%m-%y\")"
   ]
  },
  {
   "cell_type": "code",
   "execution_count": 251,
   "id": "e94a044b-b6d0-4271-a704-2ae140b2cce3",
   "metadata": {},
   "outputs": [
    {
     "data": {
      "text/plain": [
       "<DatetimeArray>\n",
       "['2025-07-06 00:00:00']\n",
       "Length: 1, dtype: datetime64[ns]"
      ]
     },
     "execution_count": 251,
     "metadata": {},
     "output_type": "execute_result"
    }
   ],
   "source": [
    "sales_df[\"order_date\"].unique()"
   ]
  },
  {
   "cell_type": "code",
   "execution_count": 252,
   "id": "9f8d5bb3-5c6f-4995-a8a7-3820943853dd",
   "metadata": {},
   "outputs": [
    {
     "data": {
      "text/plain": [
       "0"
      ]
     },
     "execution_count": 252,
     "metadata": {},
     "output_type": "execute_result"
    }
   ],
   "source": [
    "sales_df.duplicated().sum()"
   ]
  },
  {
   "attachments": {},
   "cell_type": "markdown",
   "id": "a66f4426-8ecc-4c0a-9f26-a22c8abbfbda",
   "metadata": {},
   "source": [
    "### unit_price column\n",
    "\n"
   ]
  },
  {
   "cell_type": "code",
   "execution_count": 253,
   "id": "6a9d3df2-4dd7-422d-bb35-fb268701d319",
   "metadata": {},
   "outputs": [
    {
     "data": {
      "text/plain": [
       "1"
      ]
     },
     "execution_count": 253,
     "metadata": {},
     "output_type": "execute_result"
    }
   ],
   "source": [
    "sales_df.unit_price.isna().sum()"
   ]
  },
  {
   "cell_type": "code",
   "execution_count": 254,
   "id": "2fa6d4ee-2ac4-41ff-84fd-d2af867b5752",
   "metadata": {},
   "outputs": [
    {
     "data": {
      "text/plain": [
       "0"
      ]
     },
     "execution_count": 254,
     "metadata": {},
     "output_type": "execute_result"
    }
   ],
   "source": [
    "(sales_df.unit_price  < 0).sum()"
   ]
  },
  {
   "cell_type": "code",
   "execution_count": 255,
   "id": "520b8722-2acd-49f6-8d75-dc1ed5289928",
   "metadata": {},
   "outputs": [
    {
     "data": {
      "image/png": "[encoded data removed]",
      "text/plain": [
       "<Figure size 640x480 with 1 Axes>"
      ]
     },
     "metadata": {},
     "output_type": "display_data"
    }
   ],
   "source": [
    "sns.set(style=\"whitegrid\")\n",
    "\n",
    "sns.histplot(data=sales_df, x=\"unit_price\", color=\"r\")\n",
    "plt.xlabel(\"unit price\")\n",
    "plt.ylabel(\"Frequency\")\n",
    "plt.title(\"Unit price distribution\")\n",
    "plt.show()"
   ]
  },
  {
   "cell_type": "markdown",
   "id": "2a8700c1-6c9f-4ba4-9791-4a9991daf1c8",
   "metadata": {},
   "source": [
    "Based on the graph above, we can use the mean to fill the missing value"
   ]
  },
  {
   "cell_type": "code",
   "execution_count": 256,
   "id": "0c06f4a2-9bfe-440f-81fe-f4d800831463",
   "metadata": {},
   "outputs": [
    {
     "data": {
      "text/plain": [
       "28.95"
      ]
     },
     "execution_count": 256,
     "metadata": {},
     "output_type": "execute_result"
    }
   ],
   "source": [
    "np.round(sales_df.unit_price.mean(),2)"
   ]
  },
  {
   "cell_type": "code",
   "execution_count": 257,
   "id": "21e987ab-bb69-41ea-8a75-5645843e498a",
   "metadata": {},
   "outputs": [
    {
     "name": "stderr",
     "output_type": "stream",
     "text": [
      "/tmp/ipykernel_347/1813843688.py:1: FutureWarning: A value is trying to be set on a copy of a DataFrame or Series through chained assignment using an inplace method.\n",
      "The behavior will change in pandas 3.0. This inplace method will never work because the intermediate object on which we are setting values always behaves as a copy.\n",
      "\n",
      "For example, when doing 'df[col].method(value, inplace=True)', try using 'df.method({col: value}, inplace=True)' or df[col] = df[col].method(value) instead, to perform the operation inplace on the original object.\n",
      "\n",
      "\n",
      "  sales_df.unit_price.fillna(np.round(sales_df.unit_price.mean(),2), inplace=True)\n"
     ]
    }
   ],
   "source": [
    "sales_df.unit_price.fillna(np.round(sales_df.unit_price.mean(),2), inplace=True)"
   ]
  },
  {
   "cell_type": "code",
   "execution_count": 258,
   "id": "8016ca63-8c5d-4538-b5ae-16abda6613a3",
   "metadata": {},
   "outputs": [
    {
     "data": {
      "text/plain": [
       "0"
      ]
     },
     "execution_count": 258,
     "metadata": {},
     "output_type": "execute_result"
    }
   ],
   "source": [
    "sales_df.unit_price.isna().sum()"
   ]
  },
  {
   "attachments": {},
   "cell_type": "markdown",
   "id": "c58defc3-1b12-470c-b21a-686f5de980f8",
   "metadata": {},
   "source": [
    "### discount_applied\n",
    "\n"
   ]
  },
  {
   "cell_type": "code",
   "execution_count": 259,
   "id": "662f62ba-c9ab-4d39-bc49-f90f9633148a",
   "metadata": {},
   "outputs": [
    {
     "data": {
      "text/plain": [
       "0"
      ]
     },
     "execution_count": 259,
     "metadata": {},
     "output_type": "execute_result"
    }
   ],
   "source": [
    "(sales_df.discount_applied < 0).sum()"
   ]
  },
  {
   "cell_type": "code",
   "execution_count": 260,
   "id": "5d170535-dff7-46db-9aee-343994d1e505",
   "metadata": {},
   "outputs": [
    {
     "data": {
      "text/plain": [
       "array([0.  , 0.15, 0.2 , 0.1 , 0.05,  nan])"
      ]
     },
     "execution_count": 260,
     "metadata": {},
     "output_type": "execute_result"
    }
   ],
   "source": [
    "sales_df.discount_applied.unique()"
   ]
  },
  {
   "cell_type": "code",
   "execution_count": 261,
   "id": "291b0c1b-bdb1-4f57-a039-7769e72863f3",
   "metadata": {},
   "outputs": [
    {
     "data": {
      "text/plain": [
       "517"
      ]
     },
     "execution_count": 261,
     "metadata": {},
     "output_type": "execute_result"
    }
   ],
   "source": [
    "sales_df.discount_applied.isna().sum()"
   ]
  },
  {
   "cell_type": "code",
   "execution_count": 262,
   "id": "647c8f8c-f51c-4b9c-b75d-d7e0e449cad3",
   "metadata": {},
   "outputs": [
    {
     "data": {
      "text/plain": [
       "discount_applied\n",
       "0.15    510\n",
       "0.10    506\n",
       "0.05    505\n",
       "0.20    483\n",
       "0.00    479\n",
       "Name: count, dtype: int64"
      ]
     },
     "execution_count": 262,
     "metadata": {},
     "output_type": "execute_result"
    }
   ],
   "source": [
    "sales_df.discount_applied.value_counts()"
   ]
  },
  {
   "cell_type": "code",
   "execution_count": 263,
   "id": "47342dd9-e612-4383-ab7a-6b7c9b607e2a",
   "metadata": {},
   "outputs": [
    {
     "data": {
      "image/png": "[encoded data removed]",
      "text/plain": [
       "<Figure size 640x480 with 1 Axes>"
      ]
     },
     "metadata": {},
     "output_type": "display_data"
    }
   ],
   "source": [
    "sns.countplot(data= sales_df, x=\"discount_applied\", color='g')\n",
    "plt.xlabel(\"Applied discount\")\n",
    "plt.ylabel(\"Frequency\")\n",
    "plt.title(\"Applied discount frquency\")\n",
    "plt.show()"
   ]
  },
  {
   "cell_type": "markdown",
   "id": "c6ab5302-001e-4509-8cc6-4c3fb53420a5",
   "metadata": {},
   "source": [
    "Based on the graph above, assigning the 517 missing values to the mode would significantly distort the data, as the number of missing entries is quite significant.  \n",
    "So taking the mean would make the most sense. "
   ]
  },
  {
   "cell_type": "code",
   "execution_count": 264,
   "id": "4a1fd244-b28a-4339-967d-2acad57ea71a",
   "metadata": {},
   "outputs": [
    {
     "name": "stderr",
     "output_type": "stream",
     "text": [
      "/tmp/ipykernel_347/1231261863.py:1: FutureWarning: A value is trying to be set on a copy of a DataFrame or Series through chained assignment using an inplace method.\n",
      "The behavior will change in pandas 3.0. This inplace method will never work because the intermediate object on which we are setting values always behaves as a copy.\n",
      "\n",
      "For example, when doing 'df[col].method(value, inplace=True)', try using 'df.method({col: value}, inplace=True)' or df[col] = df[col].method(value) instead, to perform the operation inplace on the original object.\n",
      "\n",
      "\n",
      "  sales_df.discount_applied.fillna(np.round(sales_df.discount_applied.mean(),2), inplace=True)\n"
     ]
    }
   ],
   "source": [
    "sales_df.discount_applied.fillna(np.round(sales_df.discount_applied.mean(),2), inplace=True)"
   ]
  },
  {
   "cell_type": "code",
   "execution_count": 265,
   "id": "5a833e3b-bcfe-4f25-8b23-ba8925825a2c",
   "metadata": {},
   "outputs": [
    {
     "data": {
      "text/plain": [
       "discount_applied\n",
       "0.10    1023\n",
       "0.15     510\n",
       "0.05     505\n",
       "0.20     483\n",
       "0.00     479\n",
       "Name: count, dtype: int64"
      ]
     },
     "execution_count": 265,
     "metadata": {},
     "output_type": "execute_result"
    }
   ],
   "source": [
    "sales_df.discount_applied.value_counts()"
   ]
  },
  {
   "attachments": {},
   "cell_type": "markdown",
   "id": "ab7298c1-f2be-4b47-9feb-f1c0d4466ef3",
   "metadata": {},
   "source": [
    "### delivery_status\n",
    "\n"
   ]
  },
  {
   "cell_type": "code",
   "execution_count": 266,
   "id": "64dacd2f-9629-4e39-a4fd-22077afc0e35",
   "metadata": {},
   "outputs": [
    {
     "data": {
      "text/plain": [
       "array(['Delivered', ' DELAYED', 'delivered', ' Cancelled ', 'Delayed',\n",
       "       'delrd', 'delyd', nan], dtype=object)"
      ]
     },
     "execution_count": 266,
     "metadata": {},
     "output_type": "execute_result"
    }
   ],
   "source": [
    "sales_df.delivery_status.unique()"
   ]
  },
  {
   "cell_type": "code",
   "execution_count": 267,
   "id": "f9faa007-4663-46b9-acff-9bda98bbc3f5",
   "metadata": {},
   "outputs": [],
   "source": [
    "sales_df.delivery_status = sales_df.delivery_status.str.lower().str.strip()"
   ]
  },
  {
   "cell_type": "code",
   "execution_count": 268,
   "id": "810046d1-8a09-4ae7-804f-999ef0113dbb",
   "metadata": {},
   "outputs": [
    {
     "data": {
      "text/plain": [
       "array(['delivered', 'delayed', 'cancelled', 'delrd', 'delyd', nan],\n",
       "      dtype=object)"
      ]
     },
     "execution_count": 268,
     "metadata": {},
     "output_type": "execute_result"
    }
   ],
   "source": [
    "sales_df.delivery_status.unique()"
   ]
  },
  {
   "cell_type": "code",
   "execution_count": 269,
   "id": "9157ada7-3c13-4c95-8023-9a39d4d76c47",
   "metadata": {},
   "outputs": [],
   "source": [
    "sales_df.replace({\"delivery_status\" :\"delrd\"}, \"delivered\", inplace=True)\n",
    "sales_df.replace({\"delivery_status\" :\"delyd\"}, \"delayed\", inplace=True)"
   ]
  },
  {
   "cell_type": "code",
   "execution_count": 270,
   "id": "cc2847c2-3518-4b21-856e-5924e611d64b",
   "metadata": {},
   "outputs": [
    {
     "data": {
      "text/plain": [
       "array(['delivered', 'delayed', 'cancelled', nan], dtype=object)"
      ]
     },
     "execution_count": 270,
     "metadata": {},
     "output_type": "execute_result"
    }
   ],
   "source": [
    "sales_df.delivery_status.unique()"
   ]
  },
  {
   "cell_type": "code",
   "execution_count": 271,
   "id": "2ffe7422-31fb-4d5b-8cb4-7195ac4e2c9d",
   "metadata": {},
   "outputs": [
    {
     "name": "stderr",
     "output_type": "stream",
     "text": [
      "/tmp/ipykernel_347/846313070.py:1: FutureWarning: A value is trying to be set on a copy of a DataFrame or Series through chained assignment using an inplace method.\n",
      "The behavior will change in pandas 3.0. This inplace method will never work because the intermediate object on which we are setting values always behaves as a copy.\n",
      "\n",
      "For example, when doing 'df[col].method(value, inplace=True)', try using 'df.method({col: value}, inplace=True)' or df[col] = df[col].method(value) instead, to perform the operation inplace on the original object.\n",
      "\n",
      "\n",
      "  sales_df.delivery_status.fillna(\"unknown\", inplace=True)\n"
     ]
    }
   ],
   "source": [
    "sales_df.delivery_status.fillna(\"unknown\", inplace=True)"
   ]
  },
  {
   "attachments": {},
   "cell_type": "markdown",
   "id": "49809fcd-6e7b-4b3a-855e-450d91dc6358",
   "metadata": {},
   "source": [
    "### payment_method\n",
    "\n"
   ]
  },
  {
   "cell_type": "code",
   "execution_count": 272,
   "id": "a6476d15-f1d2-431a-a373-663274fe6a6a",
   "metadata": {},
   "outputs": [
    {
     "data": {
      "text/plain": [
       "array(['PayPal', 'credit card', 'Bank Transfer', 'Credit Card', nan,\n",
       "       'bank transfr'], dtype=object)"
      ]
     },
     "execution_count": 272,
     "metadata": {},
     "output_type": "execute_result"
    }
   ],
   "source": [
    "sales_df.payment_method.unique()"
   ]
  },
  {
   "cell_type": "code",
   "execution_count": 273,
   "id": "9081e137-4982-4f26-96c0-24b1576f6243",
   "metadata": {},
   "outputs": [],
   "source": [
    "sales_df.replace({\"payment_method\" : \"credit card\"}, \"Credit Card\", inplace=True)\n",
    "sales_df.replace({\"payment_method\" : \"bank transfr\"}, \"Bank Transfer\", inplace=True)"
   ]
  },
  {
   "cell_type": "code",
   "execution_count": 274,
   "id": "008b2c85-6df5-4af2-a93c-a5f1e9b468ce",
   "metadata": {},
   "outputs": [
    {
     "name": "stderr",
     "output_type": "stream",
     "text": [
      "/tmp/ipykernel_347/1175314897.py:1: FutureWarning: A value is trying to be set on a copy of a DataFrame or Series through chained assignment using an inplace method.\n",
      "The behavior will change in pandas 3.0. This inplace method will never work because the intermediate object on which we are setting values always behaves as a copy.\n",
      "\n",
      "For example, when doing 'df[col].method(value, inplace=True)', try using 'df.method({col: value}, inplace=True)' or df[col] = df[col].method(value) instead, to perform the operation inplace on the original object.\n",
      "\n",
      "\n",
      "  sales_df.payment_method.fillna(\"Unknown\", inplace=True)\n"
     ]
    }
   ],
   "source": [
    "sales_df.payment_method.fillna(\"Unknown\", inplace=True)"
   ]
  },
  {
   "cell_type": "code",
   "execution_count": 275,
   "id": "fd9f5061-f69d-40cd-812f-9c47f479d6ae",
   "metadata": {},
   "outputs": [
    {
     "data": {
      "text/plain": [
       "array(['PayPal', 'Credit Card', 'Bank Transfer', 'Unknown'], dtype=object)"
      ]
     },
     "execution_count": 275,
     "metadata": {},
     "output_type": "execute_result"
    }
   ],
   "source": [
    "sales_df.payment_method.unique()"
   ]
  },
  {
   "attachments": {},
   "cell_type": "markdown",
   "id": "791c60c9-09f7-4f6b-a401-e7aec3300339",
   "metadata": {},
   "source": [
    "### region\n",
    "\n"
   ]
  },
  {
   "cell_type": "code",
   "execution_count": 276,
   "id": "24f17abf-a9b2-4718-9044-aa4557137f70",
   "metadata": {},
   "outputs": [
    {
     "data": {
      "text/plain": [
       "array(['Central', 'North', 'West', 'East', 'South', 'nrth'], dtype=object)"
      ]
     },
     "execution_count": 276,
     "metadata": {},
     "output_type": "execute_result"
    }
   ],
   "source": [
    "sales_df.region.unique()"
   ]
  },
  {
   "cell_type": "code",
   "execution_count": 277,
   "id": "af513d5d-9ad2-4fbb-a7fe-3220e299cfff",
   "metadata": {},
   "outputs": [],
   "source": [
    "sales_df.replace({\"region\" : \"nrth\"}, \"North\", inplace=True)\n"
   ]
  },
  {
   "attachments": {},
   "cell_type": "markdown",
   "id": "ea6a08f7-5542-4e40-88f3-e6137e563f6f",
   "metadata": {},
   "source": [
    "### quantity\n",
    "\n"
   ]
  },
  {
   "cell_type": "code",
   "execution_count": 278,
   "id": "f6ffe4a6-68fe-4df0-9981-703d7eba1a81",
   "metadata": {},
   "outputs": [
    {
     "data": {
      "text/plain": [
       "array(['3', '5', '1', '2', '4', nan, 'three', 'five'], dtype=object)"
      ]
     },
     "execution_count": 278,
     "metadata": {},
     "output_type": "execute_result"
    }
   ],
   "source": [
    "sales_df.quantity.unique()"
   ]
  },
  {
   "cell_type": "code",
   "execution_count": 279,
   "id": "021355e8-fcb1-4cee-90d1-4ef69f9f6a5b",
   "metadata": {},
   "outputs": [],
   "source": [
    "sales_df.replace({\"quantity\" : \"three\"}, \"3\", inplace=True)\n",
    "sales_df.replace({\"quantity\" : \"five\"}, \"5\", inplace=True)"
   ]
  },
  {
   "cell_type": "code",
   "execution_count": 280,
   "id": "4b568860-5914-4e8f-9845-b70f17163e6d",
   "metadata": {},
   "outputs": [
    {
     "data": {
      "text/plain": [
       "3"
      ]
     },
     "execution_count": 280,
     "metadata": {},
     "output_type": "execute_result"
    }
   ],
   "source": [
    "sales_df.quantity.isna().sum()"
   ]
  },
  {
   "cell_type": "code",
   "execution_count": 281,
   "id": "4b874f42-8cb0-42c1-ac99-a3f43e953b23",
   "metadata": {},
   "outputs": [
    {
     "data": {
      "text/plain": [
       "'2'"
      ]
     },
     "execution_count": 281,
     "metadata": {},
     "output_type": "execute_result"
    }
   ],
   "source": [
    "sales_df.quantity.mode()[0]"
   ]
  },
  {
   "cell_type": "code",
   "execution_count": 282,
   "id": "a8cb973c-d4ae-4ef2-807a-0bb6c0036e73",
   "metadata": {},
   "outputs": [
    {
     "name": "stderr",
     "output_type": "stream",
     "text": [
      "/tmp/ipykernel_347/2267625622.py:1: FutureWarning: A value is trying to be set on a copy of a DataFrame or Series through chained assignment using an inplace method.\n",
      "The behavior will change in pandas 3.0. This inplace method will never work because the intermediate object on which we are setting values always behaves as a copy.\n",
      "\n",
      "For example, when doing 'df[col].method(value, inplace=True)', try using 'df.method({col: value}, inplace=True)' or df[col] = df[col].method(value) instead, to perform the operation inplace on the original object.\n",
      "\n",
      "\n",
      "  sales_df.quantity.fillna(sales_df.quantity.mode()[0], inplace=True)\n"
     ]
    }
   ],
   "source": [
    "sales_df.quantity.fillna(sales_df.quantity.mode()[0], inplace=True)"
   ]
  },
  {
   "cell_type": "code",
   "execution_count": 283,
   "id": "4b6cac76-8a73-4e33-8776-5f950a751e14",
   "metadata": {},
   "outputs": [],
   "source": [
    "sales_df.quantity = sales_df.quantity.astype(\"int64\")"
   ]
  },
  {
   "cell_type": "code",
   "execution_count": 284,
   "id": "4392f47a-7820-4b48-8e23-438581c00aa4",
   "metadata": {},
   "outputs": [
    {
     "data": {
      "text/plain": [
       "dtype('int64')"
      ]
     },
     "execution_count": 284,
     "metadata": {},
     "output_type": "execute_result"
    }
   ],
   "source": [
    "sales_df.quantity.dtype"
   ]
  },
  {
   "attachments": {},
   "cell_type": "markdown",
   "id": "97f233aa-841d-4894-ae74-b345415c517d",
   "metadata": {},
   "source": [
    "### product_id\n",
    "\n"
   ]
  },
  {
   "cell_type": "code",
   "execution_count": 285,
   "id": "663a1028-7924-4ce4-9154-d1254d26e4b9",
   "metadata": {},
   "outputs": [
    {
     "data": {
      "text/plain": [
       "5"
      ]
     },
     "execution_count": 285,
     "metadata": {},
     "output_type": "execute_result"
    }
   ],
   "source": [
    "sales_df.product_id.isna().sum()"
   ]
  },
  {
   "cell_type": "code",
   "execution_count": 286,
   "id": "6182aabf-2b0c-4603-9d74-83e50587f00b",
   "metadata": {},
   "outputs": [],
   "source": [
    "sales_df.fillna(\"unknown\" , inplace=True)"
   ]
  },
  {
   "attachments": {},
   "cell_type": "markdown",
   "id": "585f701f-b5f7-48d1-b906-79e93a46727b",
   "metadata": {},
   "source": [
    "# Merging the Data\n",
    "\n"
   ]
  },
  {
   "cell_type": "code",
   "execution_count": 287,
   "id": "cf97e621-3265-4751-b0f7-42dfee766c3a",
   "metadata": {},
   "outputs": [
    {
     "data": {
      "text/plain": [
       "(3000, 10)"
      ]
     },
     "execution_count": 287,
     "metadata": {},
     "output_type": "execute_result"
    }
   ],
   "source": [
    "sales_df.shape"
   ]
  },
  {
   "cell_type": "code",
   "execution_count": 289,
   "id": "2fc72f6a-ae94-497f-9afa-75da8b05012e",
   "metadata": {},
   "outputs": [],
   "source": [
    "merged_df = pd.merge(sales_df, product_df, on=['product_id'] , how='left'\n",
    "                    ).merge(customer_df, on=['customer_id'], how='left').rename(columns={\"region_y\" : \"customer_region\", \"region_x\" : \"sales_region\"})"
   ]
  },
  {
   "cell_type": "code",
   "execution_count": 290,
   "id": "daf1cdfc-1bc1-4512-b1cf-5466eb473e51",
   "metadata": {},
   "outputs": [
    {
     "name": "stdout",
     "output_type": "stream",
     "text": [
      "<class 'pandas.core.frame.DataFrame'>\n",
      "RangeIndex: 3000 entries, 0 to 2999\n",
      "Data columns (total 20 columns):\n",
      " #   Column            Non-Null Count  Dtype         \n",
      "---  ------            --------------  -----         \n",
      " 0   order_id          3000 non-null   object        \n",
      " 1   customer_id       3000 non-null   object        \n",
      " 2   product_id        3000 non-null   object        \n",
      " 3   quantity          3000 non-null   int64         \n",
      " 4   unit_price        3000 non-null   float64       \n",
      " 5   order_date        3000 non-null   datetime64[ns]\n",
      " 6   delivery_status   3000 non-null   object        \n",
      " 7   payment_method    3000 non-null   object        \n",
      " 8   sales_region      3000 non-null   object        \n",
      " 9   discount_applied  3000 non-null   float64       \n",
      " 10  product_name      2995 non-null   object        \n",
      " 11  category          2995 non-null   object        \n",
      " 12  launch_date       2995 non-null   datetime64[ns]\n",
      " 13  base_price        2995 non-null   float64       \n",
      " 14  supplier_code     2995 non-null   object        \n",
      " 15  email             2974 non-null   object        \n",
      " 16  signup_date       2946 non-null   datetime64[ns]\n",
      " 17  gender            2974 non-null   object        \n",
      " 18  customer_region   2974 non-null   object        \n",
      " 19  loyalty_tier      2974 non-null   object        \n",
      "dtypes: datetime64[ns](3), float64(3), int64(1), object(13)\n",
      "memory usage: 468.9+ KB\n"
     ]
    }
   ],
   "source": [
    "merged_df.info()"
   ]
  },
  {
   "cell_type": "code",
   "execution_count": 291,
   "id": "c3604be3-d7ac-4d63-bd38-ca20d94cb982",
   "metadata": {},
   "outputs": [
    {
     "data": {
      "text/html": [
       "<div>\n",
       "<style scoped>\n",
       "    .dataframe tbody tr th:only-of-type {\n",
       "        vertical-align: middle;\n",
       "    }\n",
       "\n",
       "    .dataframe tbody tr th {\n",
       "        vertical-align: top;\n",
       "    }\n",
       "\n",
       "    .dataframe thead th {\n",
       "        text-align: right;\n",
       "    }\n",
       "</style>\n",
       "<table border=\"1\" class=\"dataframe\">\n",
       "  <thead>\n",
       "    <tr style=\"text-align: right;\">\n",
       "      <th></th>\n",
       "      <th>order_id</th>\n",
       "      <th>customer_id</th>\n",
       "      <th>product_id</th>\n",
       "      <th>quantity</th>\n",
       "      <th>unit_price</th>\n",
       "      <th>order_date</th>\n",
       "      <th>delivery_status</th>\n",
       "      <th>payment_method</th>\n",
       "      <th>sales_region</th>\n",
       "      <th>discount_applied</th>\n",
       "      <th>product_name</th>\n",
       "      <th>category</th>\n",
       "      <th>launch_date</th>\n",
       "      <th>base_price</th>\n",
       "      <th>supplier_code</th>\n",
       "      <th>email</th>\n",
       "      <th>signup_date</th>\n",
       "      <th>gender</th>\n",
       "      <th>customer_region</th>\n",
       "      <th>loyalty_tier</th>\n",
       "    </tr>\n",
       "  </thead>\n",
       "  <tbody>\n",
       "    <tr>\n",
       "      <th>0</th>\n",
       "      <td>O966977</td>\n",
       "      <td>C00397</td>\n",
       "      <td>P0022</td>\n",
       "      <td>3</td>\n",
       "      <td>39.25</td>\n",
       "      <td>2025-07-06</td>\n",
       "      <td>delivered</td>\n",
       "      <td>PayPal</td>\n",
       "      <td>Central</td>\n",
       "      <td>0.00</td>\n",
       "      <td>Cleaning Product 86</td>\n",
       "      <td>Cleaning</td>\n",
       "      <td>2024-10-04</td>\n",
       "      <td>19.77</td>\n",
       "      <td>S924</td>\n",
       "      <td>jacquelinemartin@mills-logan.com</td>\n",
       "      <td>2024-09-08</td>\n",
       "      <td>female</td>\n",
       "      <td>North</td>\n",
       "      <td>silver</td>\n",
       "    </tr>\n",
       "    <tr>\n",
       "      <th>1</th>\n",
       "      <td>O696648</td>\n",
       "      <td>C00236</td>\n",
       "      <td>P0023</td>\n",
       "      <td>5</td>\n",
       "      <td>18.92</td>\n",
       "      <td>2025-07-06</td>\n",
       "      <td>delayed</td>\n",
       "      <td>Credit Card</td>\n",
       "      <td>North</td>\n",
       "      <td>0.00</td>\n",
       "      <td>Outdoors Product 32</td>\n",
       "      <td>Outdoors</td>\n",
       "      <td>2025-01-18</td>\n",
       "      <td>36.04</td>\n",
       "      <td>S907</td>\n",
       "      <td>georgeweber@morgan.com</td>\n",
       "      <td>2024-08-06</td>\n",
       "      <td>other</td>\n",
       "      <td>North</td>\n",
       "      <td>gold</td>\n",
       "    </tr>\n",
       "    <tr>\n",
       "      <th>2</th>\n",
       "      <td>O202644</td>\n",
       "      <td>C00492</td>\n",
       "      <td>P0011</td>\n",
       "      <td>1</td>\n",
       "      <td>29.68</td>\n",
       "      <td>2025-07-06</td>\n",
       "      <td>delivered</td>\n",
       "      <td>Bank Transfer</td>\n",
       "      <td>North</td>\n",
       "      <td>0.15</td>\n",
       "      <td>Kitchen Product 53</td>\n",
       "      <td>Kitchen</td>\n",
       "      <td>2025-03-25</td>\n",
       "      <td>11.08</td>\n",
       "      <td>S645</td>\n",
       "      <td>lcook@walters-smith.com</td>\n",
       "      <td>2024-09-25</td>\n",
       "      <td>male</td>\n",
       "      <td>Central</td>\n",
       "      <td>gold</td>\n",
       "    </tr>\n",
       "    <tr>\n",
       "      <th>3</th>\n",
       "      <td>O501803</td>\n",
       "      <td>C00031</td>\n",
       "      <td>P0003</td>\n",
       "      <td>1</td>\n",
       "      <td>32.76</td>\n",
       "      <td>2025-07-06</td>\n",
       "      <td>cancelled</td>\n",
       "      <td>Credit Card</td>\n",
       "      <td>Central</td>\n",
       "      <td>0.20</td>\n",
       "      <td>Cleaning Product 85</td>\n",
       "      <td>Cleaning</td>\n",
       "      <td>2024-07-15</td>\n",
       "      <td>7.92</td>\n",
       "      <td>S745</td>\n",
       "      <td>smoore@gmail.com</td>\n",
       "      <td>2024-07-28</td>\n",
       "      <td>female</td>\n",
       "      <td>Central</td>\n",
       "      <td>gold</td>\n",
       "    </tr>\n",
       "    <tr>\n",
       "      <th>4</th>\n",
       "      <td>O322242</td>\n",
       "      <td>C00495</td>\n",
       "      <td>P0016</td>\n",
       "      <td>1</td>\n",
       "      <td>47.62</td>\n",
       "      <td>2025-07-06</td>\n",
       "      <td>delayed</td>\n",
       "      <td>Credit Card</td>\n",
       "      <td>West</td>\n",
       "      <td>0.20</td>\n",
       "      <td>Cleaning Product 53</td>\n",
       "      <td>Cleaning</td>\n",
       "      <td>2025-02-20</td>\n",
       "      <td>26.71</td>\n",
       "      <td>S715</td>\n",
       "      <td>mcclainkatherine@hotmail.com</td>\n",
       "      <td>2024-09-18</td>\n",
       "      <td>male</td>\n",
       "      <td>Central</td>\n",
       "      <td>gold</td>\n",
       "    </tr>\n",
       "  </tbody>\n",
       "</table>\n",
       "</div>"
      ],
      "text/plain": [
       "  order_id customer_id product_id  quantity  unit_price order_date  \\\n",
       "0  O966977      C00397      P0022         3       39.25 2025-07-06   \n",
       "1  O696648      C00236      P0023         5       18.92 2025-07-06   \n",
       "2  O202644      C00492      P0011         1       29.68 2025-07-06   \n",
       "3  O501803      C00031      P0003         1       32.76 2025-07-06   \n",
       "4  O322242      C00495      P0016         1       47.62 2025-07-06   \n",
       "\n",
       "  delivery_status payment_method sales_region  discount_applied  \\\n",
       "0       delivered         PayPal      Central              0.00   \n",
       "1         delayed    Credit Card        North              0.00   \n",
       "2       delivered  Bank Transfer        North              0.15   \n",
       "3       cancelled    Credit Card      Central              0.20   \n",
       "4         delayed    Credit Card         West              0.20   \n",
       "\n",
       "          product_name  category launch_date  base_price supplier_code  \\\n",
       "0  Cleaning Product 86  Cleaning  2024-10-04       19.77          S924   \n",
       "1  Outdoors Product 32  Outdoors  2025-01-18       36.04          S907   \n",
       "2   Kitchen Product 53   Kitchen  2025-03-25       11.08          S645   \n",
       "3  Cleaning Product 85  Cleaning  2024-07-15        7.92          S745   \n",
       "4  Cleaning Product 53  Cleaning  2025-02-20       26.71          S715   \n",
       "\n",
       "                              email signup_date  gender customer_region  \\\n",
       "0  jacquelinemartin@mills-logan.com  2024-09-08  female           North   \n",
       "1            georgeweber@morgan.com  2024-08-06   other           North   \n",
       "2           lcook@walters-smith.com  2024-09-25    male         Central   \n",
       "3                  smoore@gmail.com  2024-07-28  female         Central   \n",
       "4      mcclainkatherine@hotmail.com  2024-09-18    male         Central   \n",
       "\n",
       "  loyalty_tier  \n",
       "0       silver  \n",
       "1         gold  \n",
       "2         gold  \n",
       "3         gold  \n",
       "4         gold  "
      ]
     },
     "execution_count": 291,
     "metadata": {},
     "output_type": "execute_result"
    }
   ],
   "source": [
    "merged_df.head()"
   ]
  },
  {
   "attachments": {},
   "cell_type": "markdown",
   "id": "1a53db04-61a9-4c66-8fe8-8cd3d4ca8f2f",
   "metadata": {},
   "source": [
    "# Feature Engineering\n",
    "\n"
   ]
  },
  {
   "cell_type": "code",
   "execution_count": 292,
   "id": "9316aaa7-697f-4c72-95ed-4bdaa633483d",
   "metadata": {},
   "outputs": [],
   "source": [
    "merged_df[\"revenue\"] = merged_df[\"quantity\"] * merged_df[\"unit_price\"] * (1 - merged_df[\"discount_applied\"])"
   ]
  },
  {
   "cell_type": "code",
   "execution_count": 293,
   "id": "9329ba08-ea31-40e7-96e7-f4c5e9453f6a",
   "metadata": {},
   "outputs": [],
   "source": [
    "merged_df[\"order_week\"] = merged_df[\"order_date\"].dt.isocalendar().week"
   ]
  },
  {
   "cell_type": "code",
   "execution_count": 294,
   "id": "900561e0-23b1-4790-b2fa-8d5575f856b6",
   "metadata": {},
   "outputs": [],
   "source": [
    "bins = [0, 15, 30, float(\"inf\") ]\n",
    "labels = [\"Low\", \"Medium\", \"High\"]\n",
    "\n",
    "merged_df[\"price_band\"] = pd.cut(merged_df[\"unit_price\"], bins=bins, labels=labels, right=False)"
   ]
  },
  {
   "cell_type": "code",
   "execution_count": 295,
   "id": "ba94f149-a79c-44e0-aef2-4df1fa4137dd",
   "metadata": {},
   "outputs": [],
   "source": [
    "merged_df[\"days_to_order\"] = merged_df[\"order_date\"] - merged_df[\"launch_date\"]"
   ]
  },
  {
   "cell_type": "code",
   "execution_count": 296,
   "id": "6a2180c4-93bd-4216-8cb5-c2330e9f8027",
   "metadata": {},
   "outputs": [
    {
     "name": "stderr",
     "output_type": "stream",
     "text": [
      "/tmp/ipykernel_347/3123355071.py:1: FutureWarning: A value is trying to be set on a copy of a DataFrame or Series through chained assignment using an inplace method.\n",
      "The behavior will change in pandas 3.0. This inplace method will never work because the intermediate object on which we are setting values always behaves as a copy.\n",
      "\n",
      "For example, when doing 'df[col].method(value, inplace=True)', try using 'df.method({col: value}, inplace=True)' or df[col] = df[col].method(value) instead, to perform the operation inplace on the original object.\n",
      "\n",
      "\n",
      "  merged_df[\"email\"].fillna(\"unknown\", inplace=True)\n"
     ]
    }
   ],
   "source": [
    "merged_df[\"email\"].fillna(\"unknown\", inplace=True)"
   ]
  },
  {
   "cell_type": "code",
   "execution_count": 297,
   "id": "5ad8606d-f52a-411a-bab9-e37347c8eb16",
   "metadata": {},
   "outputs": [],
   "source": [
    "def apply_pattern(text):\n",
    "    \"\"\"Applies regular expression search pattern to provided string.\"\"\"\n",
    "    matchObject = re.search(r'@([\\w\\.-]+)', text)\n",
    "    return matchObject.group(1) if matchObject else None\n",
    "\n",
    "merged_df[\"email_domain\"] = merged_df[\"email\"].apply(apply_pattern)"
   ]
  },
  {
   "cell_type": "code",
   "execution_count": 298,
   "id": "50d3c4f9-d033-4197-ad7b-e200452189ff",
   "metadata": {},
   "outputs": [],
   "source": [
    "merged_df[\"is_late\"] = (merged_df[\"delivery_status\"] == \"delayed\")"
   ]
  },
  {
   "attachments": {},
   "cell_type": "markdown",
   "id": "3fe65f4f-07f4-4240-ae90-e3b4565000ab",
   "metadata": {},
   "source": [
    "# Summary Tables & EDA\n",
    "\n"
   ]
  },
  {
   "attachments": {},
   "cell_type": "markdown",
   "id": "0ad51cec-d50f-43ef-9568-496980b25ee5",
   "metadata": {},
   "source": [
    "### Weekly revenue trends by region\n",
    "\n"
   ]
  },
  {
   "cell_type": "code",
   "execution_count": 299,
   "id": "fe175360-0f1e-4122-972d-973864f117ec",
   "metadata": {},
   "outputs": [
    {
     "data": {
      "text/html": [
       "<div>\n",
       "<style scoped>\n",
       "    .dataframe tbody tr th:only-of-type {\n",
       "        vertical-align: middle;\n",
       "    }\n",
       "\n",
       "    .dataframe tbody tr th {\n",
       "        vertical-align: top;\n",
       "    }\n",
       "\n",
       "    .dataframe thead th {\n",
       "        text-align: right;\n",
       "    }\n",
       "</style>\n",
       "<table border=\"1\" class=\"dataframe\">\n",
       "  <thead>\n",
       "    <tr style=\"text-align: right;\">\n",
       "      <th></th>\n",
       "      <th>order_week</th>\n",
       "      <th>sales_region</th>\n",
       "      <th>revenue</th>\n",
       "    </tr>\n",
       "  </thead>\n",
       "  <tbody>\n",
       "    <tr>\n",
       "      <th>0</th>\n",
       "      <td>27</td>\n",
       "      <td>Central</td>\n",
       "      <td>46549.9595</td>\n",
       "    </tr>\n",
       "    <tr>\n",
       "      <th>1</th>\n",
       "      <td>27</td>\n",
       "      <td>East</td>\n",
       "      <td>47329.6400</td>\n",
       "    </tr>\n",
       "    <tr>\n",
       "      <th>2</th>\n",
       "      <td>27</td>\n",
       "      <td>North</td>\n",
       "      <td>45977.9905</td>\n",
       "    </tr>\n",
       "    <tr>\n",
       "      <th>3</th>\n",
       "      <td>27</td>\n",
       "      <td>South</td>\n",
       "      <td>48882.1180</td>\n",
       "    </tr>\n",
       "    <tr>\n",
       "      <th>4</th>\n",
       "      <td>27</td>\n",
       "      <td>West</td>\n",
       "      <td>47340.5780</td>\n",
       "    </tr>\n",
       "  </tbody>\n",
       "</table>\n",
       "</div>"
      ],
      "text/plain": [
       "   order_week sales_region     revenue\n",
       "0          27      Central  46549.9595\n",
       "1          27         East  47329.6400\n",
       "2          27        North  45977.9905\n",
       "3          27        South  48882.1180\n",
       "4          27         West  47340.5780"
      ]
     },
     "execution_count": 299,
     "metadata": {},
     "output_type": "execute_result"
    }
   ],
   "source": [
    "weekly_revenue = merged_df.groupby(['order_week', 'sales_region'])[\"revenue\"].sum().reset_index()\n",
    "weekly_revenue"
   ]
  },
  {
   "cell_type": "code",
   "execution_count": 300,
   "id": "64837a35-e71d-43a9-a5aa-6d8ae2e73694",
   "metadata": {},
   "outputs": [
    {
     "data": {
      "image/png": "[encoded data removed]",
      "text/plain": [
       "<Figure size 1200x600 with 1 Axes>"
      ]
     },
     "metadata": {},
     "output_type": "display_data"
    }
   ],
   "source": [
    "plt.figure(figsize=(12, 6))\n",
    "ax = sns.barplot(data=weekly_revenue, x=\"order_week\", y=\"revenue\", hue=\"sales_region\")\n",
    "\n",
    "\n",
    "ax.set(title=\"Weekly Revenue\", xlabel=\"Order Week\", ylabel=\"Revenue\")\n",
    "for bar in ax.patches:\n",
    "    height = bar.get_height()\n",
    "    ax.text(bar.get_x() + bar.get_width() / 2, height + 1, f'{height:.0f}',\n",
    "            ha='center', va='bottom', fontsize=9)\n",
    "    \n",
    "ax.legend(loc='lower right')\n",
    "\n",
    "plt.show()"
   ]
  },
  {
   "attachments": {},
   "cell_type": "markdown",
   "id": "9f8677a2-20d3-42b0-a30a-24e1e205bfdd",
   "metadata": {},
   "source": [
    "### Product category performance\n",
    "\n",
    "\n"
   ]
  },
  {
   "cell_type": "code",
   "execution_count": 301,
   "id": "2a6fe0b2-ace4-4a4a-9874-24d7f54e389c",
   "metadata": {},
   "outputs": [
    {
     "data": {
      "text/html": [
       "<div>\n",
       "<style scoped>\n",
       "    .dataframe tbody tr th:only-of-type {\n",
       "        vertical-align: middle;\n",
       "    }\n",
       "\n",
       "    .dataframe tbody tr th {\n",
       "        vertical-align: top;\n",
       "    }\n",
       "\n",
       "    .dataframe thead th {\n",
       "        text-align: right;\n",
       "    }\n",
       "</style>\n",
       "<table border=\"1\" class=\"dataframe\">\n",
       "  <thead>\n",
       "    <tr style=\"text-align: right;\">\n",
       "      <th></th>\n",
       "      <th>category</th>\n",
       "      <th>discount_applied</th>\n",
       "      <th>quantity</th>\n",
       "      <th>revenue</th>\n",
       "    </tr>\n",
       "  </thead>\n",
       "  <tbody>\n",
       "    <tr>\n",
       "      <th>0</th>\n",
       "      <td>Cleaning</td>\n",
       "      <td>123.85</td>\n",
       "      <td>3593</td>\n",
       "      <td>92009.0850</td>\n",
       "    </tr>\n",
       "    <tr>\n",
       "      <th>1</th>\n",
       "      <td>Kitchen</td>\n",
       "      <td>38.75</td>\n",
       "      <td>1229</td>\n",
       "      <td>33163.9485</td>\n",
       "    </tr>\n",
       "    <tr>\n",
       "      <th>2</th>\n",
       "      <td>Outdoors</td>\n",
       "      <td>49.80</td>\n",
       "      <td>1525</td>\n",
       "      <td>39489.4300</td>\n",
       "    </tr>\n",
       "    <tr>\n",
       "      <th>3</th>\n",
       "      <td>Personal Care</td>\n",
       "      <td>31.10</td>\n",
       "      <td>902</td>\n",
       "      <td>24566.1895</td>\n",
       "    </tr>\n",
       "    <tr>\n",
       "      <th>4</th>\n",
       "      <td>Storage</td>\n",
       "      <td>56.40</td>\n",
       "      <td>1735</td>\n",
       "      <td>46240.9765</td>\n",
       "    </tr>\n",
       "  </tbody>\n",
       "</table>\n",
       "</div>"
      ],
      "text/plain": [
       "        category  discount_applied  quantity     revenue\n",
       "0       Cleaning            123.85      3593  92009.0850\n",
       "1        Kitchen             38.75      1229  33163.9485\n",
       "2       Outdoors             49.80      1525  39489.4300\n",
       "3  Personal Care             31.10       902  24566.1895\n",
       "4        Storage             56.40      1735  46240.9765"
      ]
     },
     "execution_count": 301,
     "metadata": {},
     "output_type": "execute_result"
    }
   ],
   "source": [
    "category_performance = merged_df.groupby(\"category\")[[ 'discount_applied',\"quantity\", \"revenue\"]].sum().reset_index()\n",
    "category_performance"
   ]
  },
  {
   "cell_type": "code",
   "execution_count": 302,
   "id": "d9632324-0d11-443d-92c1-b633fb9c46cc",
   "metadata": {},
   "outputs": [
    {
     "data": {
      "image/png": "[encoded data removed]",
      "text/plain": [
       "<Figure size 1200x600 with 1 Axes>"
      ]
     },
     "metadata": {},
     "output_type": "display_data"
    }
   ],
   "source": [
    "plt.figure(figsize=(12,6))\n",
    "\n",
    "ax = sns.barplot(data=category_performance, x=\"category\", y=\"revenue\", color='g')\n",
    "ax.set(title=\"Top 5 Categories by Revenue\", xlabel=\"Category\", ylabel=\"Revenue\")\n",
    "\n",
    "for bar in ax.patches:\n",
    "    height = bar.get_height()\n",
    "    ax.text(bar.get_x() + bar.get_width() / 2, height + 1, f'{height:.0f}',\n",
    "            ha='center', va='bottom', fontsize=9)\n",
    "\n",
    "plt.show()"
   ]
  },
  {
   "cell_type": "code",
   "execution_count": 303,
   "id": "b762409d-b354-438d-aa42-e497b99abc39",
   "metadata": {},
   "outputs": [
    {
     "data": {
      "text/html": [
       "<div>\n",
       "<style scoped>\n",
       "    .dataframe tbody tr th:only-of-type {\n",
       "        vertical-align: middle;\n",
       "    }\n",
       "\n",
       "    .dataframe tbody tr th {\n",
       "        vertical-align: top;\n",
       "    }\n",
       "\n",
       "    .dataframe thead th {\n",
       "        text-align: right;\n",
       "    }\n",
       "</style>\n",
       "<table border=\"1\" class=\"dataframe\">\n",
       "  <thead>\n",
       "    <tr style=\"text-align: right;\">\n",
       "      <th>sales_region</th>\n",
       "      <th>Central</th>\n",
       "      <th>East</th>\n",
       "      <th>North</th>\n",
       "      <th>South</th>\n",
       "      <th>West</th>\n",
       "    </tr>\n",
       "    <tr>\n",
       "      <th>category</th>\n",
       "      <th></th>\n",
       "      <th></th>\n",
       "      <th></th>\n",
       "      <th></th>\n",
       "      <th></th>\n",
       "    </tr>\n",
       "  </thead>\n",
       "  <tbody>\n",
       "    <tr>\n",
       "      <th>Cleaning</th>\n",
       "      <td>17622.8</td>\n",
       "      <td>19635.0</td>\n",
       "      <td>18390.0</td>\n",
       "      <td>18633.1</td>\n",
       "      <td>17728.2</td>\n",
       "    </tr>\n",
       "    <tr>\n",
       "      <th>Kitchen</th>\n",
       "      <td>6295.1</td>\n",
       "      <td>6532.8</td>\n",
       "      <td>6154.4</td>\n",
       "      <td>7578.5</td>\n",
       "      <td>6603.1</td>\n",
       "    </tr>\n",
       "    <tr>\n",
       "      <th>Outdoors</th>\n",
       "      <td>7771.5</td>\n",
       "      <td>7119.8</td>\n",
       "      <td>7679.5</td>\n",
       "      <td>9180.9</td>\n",
       "      <td>7737.7</td>\n",
       "    </tr>\n",
       "    <tr>\n",
       "      <th>Personal Care</th>\n",
       "      <td>5578.2</td>\n",
       "      <td>4570.0</td>\n",
       "      <td>5134.3</td>\n",
       "      <td>4156.5</td>\n",
       "      <td>5127.1</td>\n",
       "    </tr>\n",
       "    <tr>\n",
       "      <th>Storage</th>\n",
       "      <td>9282.3</td>\n",
       "      <td>9408.7</td>\n",
       "      <td>8517.4</td>\n",
       "      <td>9177.3</td>\n",
       "      <td>9855.3</td>\n",
       "    </tr>\n",
       "  </tbody>\n",
       "</table>\n",
       "</div>"
      ],
      "text/plain": [
       "sales_region   Central     East    North    South     West\n",
       "category                                                  \n",
       "Cleaning       17622.8  19635.0  18390.0  18633.1  17728.2\n",
       "Kitchen         6295.1   6532.8   6154.4   7578.5   6603.1\n",
       "Outdoors        7771.5   7119.8   7679.5   9180.9   7737.7\n",
       "Personal Care   5578.2   4570.0   5134.3   4156.5   5127.1\n",
       "Storage         9282.3   9408.7   8517.4   9177.3   9855.3"
      ]
     },
     "execution_count": 303,
     "metadata": {},
     "output_type": "execute_result"
    }
   ],
   "source": [
    "category_performance_region_pivot = merged_df[[\"category\", \"sales_region\", \"revenue\"]].pivot_table(index=[\"category\", \"sales_region\"]\n",
    "                                                                        , aggfunc=\"sum\").reset_index().pivot(index=\"category\", columns=[\"sales_region\"], values=\"revenue\").round(1)\n",
    "category_performance_region_pivot"
   ]
  },
  {
   "cell_type": "code",
   "execution_count": 304,
   "id": "28b65404-a8e4-4270-a274-3020c751f848",
   "metadata": {
    "scrolled": true
   },
   "outputs": [],
   "source": [
    "category_performance_region = merged_df.groupby([\"category\", \"sales_region\"])[[ 'discount_applied',\"quantity\", \"revenue\"]].sum().reset_index()"
   ]
  },
  {
   "cell_type": "code",
   "execution_count": 305,
   "id": "8ee02e2a-56cf-422c-98c7-91e1448eebc0",
   "metadata": {},
   "outputs": [
    {
     "data": {
      "image/png": "[encoded data removed]",
      "text/plain": [
       "<Figure size 1200x600 with 1 Axes>"
      ]
     },
     "metadata": {},
     "output_type": "display_data"
    }
   ],
   "source": [
    "plt.figure(figsize=(12,6))\n",
    "\n",
    "ax = sns.barplot(data=category_performance_region, x=\"category\", y=\"revenue\", hue=\"sales_region\")\n",
    "ax.set(title=\"Categories Revenue per Region\", xlabel=\"Category\", ylabel=\"Revenue\")\n",
    "\n",
    "for bar in ax.patches:\n",
    "    height = bar.get_height()\n",
    "    ax.text(bar.get_x() + bar.get_width() / 2, height + 1, f'{height:.0f}',\n",
    "            ha='center', va='bottom', fontsize=9)\n",
    "plt.legend(title=\"region\")\n",
    "plt.show()"
   ]
  },
  {
   "cell_type": "code",
   "execution_count": 306,
   "id": "0218011c-5aea-436b-b640-46cea3cd21d8",
   "metadata": {},
   "outputs": [
    {
     "data": {
      "image/png": "[encoded data removed]",
      "text/plain": [
       "<Figure size 1200x600 with 1 Axes>"
      ]
     },
     "metadata": {},
     "output_type": "display_data"
    }
   ],
   "source": [
    "plt.figure(figsize=(12,6))\n",
    "\n",
    "ax = sns.scatterplot(data=category_performance, x=\"quantity\", y=\"discount_applied\")\n",
    "sns.regplot(data=category_performance, x=\"quantity\", y=\"discount_applied\", ax=ax, ci=None)\n",
    "ax.set(title=\"Quantity vs Discount Across Categories\", xlabel=\"Quantity\", ylabel=\"Discount Applied\")\n",
    "plt.show()"
   ]
  },
  {
   "cell_type": "code",
   "execution_count": 307,
   "id": "434df2be-bc28-489c-ace3-d844149f3575",
   "metadata": {},
   "outputs": [
    {
     "data": {
      "image/png": "[encoded data removed]",
      "text/plain": [
       "<Figure size 600x400 with 2 Axes>"
      ]
     },
     "metadata": {},
     "output_type": "display_data"
    }
   ],
   "source": [
    "plt.figure(figsize=(6, 4))\n",
    "\n",
    "corr = category_performance.corr(numeric_only=True)\n",
    "ax = sns.heatmap(corr, annot=True, cmap='coolwarm', linewidths=0.5)\n",
    "ax.tick_params(axis = 'y' , rotation=0)\n",
    "plt.title(\"Correlation Heatmap\")\n",
    "plt.tight_layout()\n",
    "plt.show()"
   ]
  },
  {
   "attachments": {},
   "cell_type": "markdown",
   "id": "7f553e68-076b-484b-83ff-00bd25c81d11",
   "metadata": {},
   "source": [
    "### Customer behaviour\n",
    "\n",
    "\n"
   ]
  },
  {
   "cell_type": "code",
   "execution_count": 308,
   "id": "1dfa805f-5468-4066-8947-e44f6b0e6b66",
   "metadata": {},
   "outputs": [],
   "source": [
    "#Sign up month\n",
    "merged_df[\"signup_month\"] = merged_df[\"signup_date\"].dt.month"
   ]
  },
  {
   "cell_type": "code",
   "execution_count": 309,
   "id": "a1b1ad00-688e-4ad7-9a90-36b3f49e95ac",
   "metadata": {},
   "outputs": [
    {
     "data": {
      "text/html": [
       "<div>\n",
       "<style scoped>\n",
       "    .dataframe tbody tr th:only-of-type {\n",
       "        vertical-align: middle;\n",
       "    }\n",
       "\n",
       "    .dataframe tbody tr th {\n",
       "        vertical-align: top;\n",
       "    }\n",
       "\n",
       "    .dataframe thead th {\n",
       "        text-align: right;\n",
       "    }\n",
       "</style>\n",
       "<table border=\"1\" class=\"dataframe\">\n",
       "  <thead>\n",
       "    <tr style=\"text-align: right;\">\n",
       "      <th>loyalty_tier</th>\n",
       "      <th>bronze</th>\n",
       "      <th>gold</th>\n",
       "      <th>silver</th>\n",
       "    </tr>\n",
       "    <tr>\n",
       "      <th>signup_month</th>\n",
       "      <th></th>\n",
       "      <th></th>\n",
       "      <th></th>\n",
       "    </tr>\n",
       "  </thead>\n",
       "  <tbody>\n",
       "    <tr>\n",
       "      <th>1.0</th>\n",
       "      <td>57</td>\n",
       "      <td>144</td>\n",
       "      <td>36</td>\n",
       "    </tr>\n",
       "    <tr>\n",
       "      <th>2.0</th>\n",
       "      <td>55</td>\n",
       "      <td>156</td>\n",
       "      <td>66</td>\n",
       "    </tr>\n",
       "    <tr>\n",
       "      <th>3.0</th>\n",
       "      <td>34</td>\n",
       "      <td>133</td>\n",
       "      <td>75</td>\n",
       "    </tr>\n",
       "    <tr>\n",
       "      <th>4.0</th>\n",
       "      <td>53</td>\n",
       "      <td>93</td>\n",
       "      <td>51</td>\n",
       "    </tr>\n",
       "    <tr>\n",
       "      <th>5.0</th>\n",
       "      <td>41</td>\n",
       "      <td>120</td>\n",
       "      <td>44</td>\n",
       "    </tr>\n",
       "    <tr>\n",
       "      <th>6.0</th>\n",
       "      <td>86</td>\n",
       "      <td>63</td>\n",
       "      <td>61</td>\n",
       "    </tr>\n",
       "    <tr>\n",
       "      <th>7.0</th>\n",
       "      <td>57</td>\n",
       "      <td>144</td>\n",
       "      <td>41</td>\n",
       "    </tr>\n",
       "    <tr>\n",
       "      <th>8.0</th>\n",
       "      <td>46</td>\n",
       "      <td>187</td>\n",
       "      <td>44</td>\n",
       "    </tr>\n",
       "    <tr>\n",
       "      <th>9.0</th>\n",
       "      <td>36</td>\n",
       "      <td>150</td>\n",
       "      <td>53</td>\n",
       "    </tr>\n",
       "    <tr>\n",
       "      <th>10.0</th>\n",
       "      <td>53</td>\n",
       "      <td>149</td>\n",
       "      <td>73</td>\n",
       "    </tr>\n",
       "    <tr>\n",
       "      <th>11.0</th>\n",
       "      <td>50</td>\n",
       "      <td>147</td>\n",
       "      <td>79</td>\n",
       "    </tr>\n",
       "    <tr>\n",
       "      <th>12.0</th>\n",
       "      <td>48</td>\n",
       "      <td>184</td>\n",
       "      <td>37</td>\n",
       "    </tr>\n",
       "  </tbody>\n",
       "</table>\n",
       "</div>"
      ],
      "text/plain": [
       "loyalty_tier  bronze  gold  silver\n",
       "signup_month                      \n",
       "1.0               57   144      36\n",
       "2.0               55   156      66\n",
       "3.0               34   133      75\n",
       "4.0               53    93      51\n",
       "5.0               41   120      44\n",
       "6.0               86    63      61\n",
       "7.0               57   144      41\n",
       "8.0               46   187      44\n",
       "9.0               36   150      53\n",
       "10.0              53   149      73\n",
       "11.0              50   147      79\n",
       "12.0              48   184      37"
      ]
     },
     "execution_count": 309,
     "metadata": {},
     "output_type": "execute_result"
    }
   ],
   "source": [
    "customer_behaviour = merged_df[[\"loyalty_tier\", \"signup_month\",\"order_id\"]].pivot_table(index=[\"signup_month\",\"loyalty_tier\", ], aggfunc='count')\n",
    "customer_behaviour = customer_behaviour.reset_index().pivot(index=\"signup_month\", columns=\"loyalty_tier\", values=\"order_id\")\n",
    "customer_behaviour"
   ]
  },
  {
   "cell_type": "code",
   "execution_count": 310,
   "id": "a478a44f-8ba5-4f38-ad5d-d9a66fb4668a",
   "metadata": {
    "scrolled": true
   },
   "outputs": [],
   "source": [
    "customer_behaviour_chart = merged_df.groupby([\"signup_month\", \"loyalty_tier\"])[\"order_id\"].count().reset_index()\n"
   ]
  },
  {
   "cell_type": "code",
   "execution_count": 311,
   "id": "2943e457-8fd8-4f61-b454-be10a558e100",
   "metadata": {},
   "outputs": [
    {
     "data": {
      "image/png": "[encoded data removed]",
      "text/plain": [
       "<Figure size 1200x600 with 1 Axes>"
      ]
     },
     "metadata": {},
     "output_type": "display_data"
    }
   ],
   "source": [
    "plt.figure(figsize=(12,6))\n",
    "\n",
    "ax = sns.lineplot(data=customer_behaviour_chart, x=\"signup_month\", y=\"order_id\", hue=\"loyalty_tier\")\n",
    "\n",
    "ax.set(title=\"Number of Orders by Signup Month and Loyalty Tier\", xlabel=\"Signup Month\", ylabel=\"Number of Orders\")\n",
    "ax.legend(title='Loyalty Tier')\n",
    "plt.show()"
   ]
  },
  {
   "cell_type": "code",
   "execution_count": 312,
   "id": "04ff1396-fc36-45c2-a6d2-6b0255b53a7f",
   "metadata": {},
   "outputs": [
    {
     "data": {
      "text/html": [
       "<div>\n",
       "<style scoped>\n",
       "    .dataframe tbody tr th:only-of-type {\n",
       "        vertical-align: middle;\n",
       "    }\n",
       "\n",
       "    .dataframe tbody tr th {\n",
       "        vertical-align: top;\n",
       "    }\n",
       "\n",
       "    .dataframe thead th {\n",
       "        text-align: right;\n",
       "    }\n",
       "</style>\n",
       "<table border=\"1\" class=\"dataframe\">\n",
       "  <thead>\n",
       "    <tr style=\"text-align: right;\">\n",
       "      <th></th>\n",
       "      <th>signup_month</th>\n",
       "      <th>revenue</th>\n",
       "    </tr>\n",
       "  </thead>\n",
       "  <tbody>\n",
       "    <tr>\n",
       "      <th>0</th>\n",
       "      <td>1.0</td>\n",
       "      <td>17378.6</td>\n",
       "    </tr>\n",
       "    <tr>\n",
       "      <th>1</th>\n",
       "      <td>2.0</td>\n",
       "      <td>23209.3</td>\n",
       "    </tr>\n",
       "    <tr>\n",
       "      <th>2</th>\n",
       "      <td>3.0</td>\n",
       "      <td>19461.4</td>\n",
       "    </tr>\n",
       "    <tr>\n",
       "      <th>3</th>\n",
       "      <td>4.0</td>\n",
       "      <td>15030.9</td>\n",
       "    </tr>\n",
       "    <tr>\n",
       "      <th>4</th>\n",
       "      <td>5.0</td>\n",
       "      <td>15666.0</td>\n",
       "    </tr>\n",
       "    <tr>\n",
       "      <th>5</th>\n",
       "      <td>6.0</td>\n",
       "      <td>16718.2</td>\n",
       "    </tr>\n",
       "    <tr>\n",
       "      <th>6</th>\n",
       "      <td>7.0</td>\n",
       "      <td>19179.7</td>\n",
       "    </tr>\n",
       "    <tr>\n",
       "      <th>7</th>\n",
       "      <td>8.0</td>\n",
       "      <td>23477.7</td>\n",
       "    </tr>\n",
       "    <tr>\n",
       "      <th>8</th>\n",
       "      <td>9.0</td>\n",
       "      <td>18333.3</td>\n",
       "    </tr>\n",
       "    <tr>\n",
       "      <th>9</th>\n",
       "      <td>10.0</td>\n",
       "      <td>22036.2</td>\n",
       "    </tr>\n",
       "    <tr>\n",
       "      <th>10</th>\n",
       "      <td>11.0</td>\n",
       "      <td>22193.7</td>\n",
       "    </tr>\n",
       "    <tr>\n",
       "      <th>11</th>\n",
       "      <td>12.0</td>\n",
       "      <td>19864.3</td>\n",
       "    </tr>\n",
       "  </tbody>\n",
       "</table>\n",
       "</div>"
      ],
      "text/plain": [
       "    signup_month  revenue\n",
       "0            1.0  17378.6\n",
       "1            2.0  23209.3\n",
       "2            3.0  19461.4\n",
       "3            4.0  15030.9\n",
       "4            5.0  15666.0\n",
       "5            6.0  16718.2\n",
       "6            7.0  19179.7\n",
       "7            8.0  23477.7\n",
       "8            9.0  18333.3\n",
       "9           10.0  22036.2\n",
       "10          11.0  22193.7\n",
       "11          12.0  19864.3"
      ]
     },
     "execution_count": 312,
     "metadata": {},
     "output_type": "execute_result"
    }
   ],
   "source": [
    "revenue_month = merged_df.groupby([\"signup_month\"])[\"revenue\"].sum().reset_index().round(1)\n",
    "revenue_month"
   ]
  },
  {
   "cell_type": "code",
   "execution_count": 313,
   "id": "b3549c72-76a3-444c-9098-985231092098",
   "metadata": {},
   "outputs": [
    {
     "data": {
      "image/png": "[encoded data removed]",
      "text/plain": [
       "<Figure size 1200x600 with 1 Axes>"
      ]
     },
     "metadata": {},
     "output_type": "display_data"
    }
   ],
   "source": [
    "plt.figure(figsize=(12,6))\n",
    "\n",
    "ax = sns.lineplot(data=revenue_month, x=\"signup_month\", y=\"revenue\")\n",
    "\n",
    "ax.set(title=\"Revenue by Signup Month\", xlabel=\"Signup Month\", ylabel=\"Revenue\")\n",
    "\n",
    "plt.show()"
   ]
  },
  {
   "cell_type": "code",
   "execution_count": 314,
   "id": "b2fd13ac-02b9-4e92-9473-9a4d2353fd6b",
   "metadata": {},
   "outputs": [
    {
     "data": {
      "text/html": [
       "<div>\n",
       "<style scoped>\n",
       "    .dataframe tbody tr th:only-of-type {\n",
       "        vertical-align: middle;\n",
       "    }\n",
       "\n",
       "    .dataframe tbody tr th {\n",
       "        vertical-align: top;\n",
       "    }\n",
       "\n",
       "    .dataframe thead th {\n",
       "        text-align: right;\n",
       "    }\n",
       "</style>\n",
       "<table border=\"1\" class=\"dataframe\">\n",
       "  <thead>\n",
       "    <tr style=\"text-align: right;\">\n",
       "      <th></th>\n",
       "      <th>customer_region</th>\n",
       "      <th>gender</th>\n",
       "      <th>revenue</th>\n",
       "    </tr>\n",
       "  </thead>\n",
       "  <tbody>\n",
       "    <tr>\n",
       "      <th>0</th>\n",
       "      <td>Central</td>\n",
       "      <td>female</td>\n",
       "      <td>20967.6240</td>\n",
       "    </tr>\n",
       "    <tr>\n",
       "      <th>1</th>\n",
       "      <td>Central</td>\n",
       "      <td>male</td>\n",
       "      <td>14478.3210</td>\n",
       "    </tr>\n",
       "    <tr>\n",
       "      <th>2</th>\n",
       "      <td>Central</td>\n",
       "      <td>other</td>\n",
       "      <td>7231.1555</td>\n",
       "    </tr>\n",
       "    <tr>\n",
       "      <th>3</th>\n",
       "      <td>East</td>\n",
       "      <td>female</td>\n",
       "      <td>26572.4580</td>\n",
       "    </tr>\n",
       "    <tr>\n",
       "      <th>4</th>\n",
       "      <td>East</td>\n",
       "      <td>male</td>\n",
       "      <td>16684.9635</td>\n",
       "    </tr>\n",
       "    <tr>\n",
       "      <th>5</th>\n",
       "      <td>East</td>\n",
       "      <td>other</td>\n",
       "      <td>6589.1240</td>\n",
       "    </tr>\n",
       "    <tr>\n",
       "      <th>6</th>\n",
       "      <td>North</td>\n",
       "      <td>female</td>\n",
       "      <td>23376.3510</td>\n",
       "    </tr>\n",
       "    <tr>\n",
       "      <th>7</th>\n",
       "      <td>North</td>\n",
       "      <td>male</td>\n",
       "      <td>17826.0860</td>\n",
       "    </tr>\n",
       "    <tr>\n",
       "      <th>8</th>\n",
       "      <td>North</td>\n",
       "      <td>other</td>\n",
       "      <td>7264.7380</td>\n",
       "    </tr>\n",
       "    <tr>\n",
       "      <th>9</th>\n",
       "      <td>South</td>\n",
       "      <td>female</td>\n",
       "      <td>24495.2640</td>\n",
       "    </tr>\n",
       "    <tr>\n",
       "      <th>10</th>\n",
       "      <td>South</td>\n",
       "      <td>male</td>\n",
       "      <td>15663.5520</td>\n",
       "    </tr>\n",
       "    <tr>\n",
       "      <th>11</th>\n",
       "      <td>South</td>\n",
       "      <td>other</td>\n",
       "      <td>4946.7330</td>\n",
       "    </tr>\n",
       "    <tr>\n",
       "      <th>12</th>\n",
       "      <td>West</td>\n",
       "      <td>female</td>\n",
       "      <td>24212.0830</td>\n",
       "    </tr>\n",
       "    <tr>\n",
       "      <th>13</th>\n",
       "      <td>West</td>\n",
       "      <td>male</td>\n",
       "      <td>15979.0780</td>\n",
       "    </tr>\n",
       "    <tr>\n",
       "      <th>14</th>\n",
       "      <td>West</td>\n",
       "      <td>other</td>\n",
       "      <td>8417.1975</td>\n",
       "    </tr>\n",
       "  </tbody>\n",
       "</table>\n",
       "</div>"
      ],
      "text/plain": [
       "   customer_region  gender     revenue\n",
       "0          Central  female  20967.6240\n",
       "1          Central    male  14478.3210\n",
       "2          Central   other   7231.1555\n",
       "3             East  female  26572.4580\n",
       "4             East    male  16684.9635\n",
       "5             East   other   6589.1240\n",
       "6            North  female  23376.3510\n",
       "7            North    male  17826.0860\n",
       "8            North   other   7264.7380\n",
       "9            South  female  24495.2640\n",
       "10           South    male  15663.5520\n",
       "11           South   other   4946.7330\n",
       "12            West  female  24212.0830\n",
       "13            West    male  15979.0780\n",
       "14            West   other   8417.1975"
      ]
     },
     "execution_count": 314,
     "metadata": {},
     "output_type": "execute_result"
    }
   ],
   "source": [
    "region_customer_revenue = merged_df.groupby([\"customer_region\", \"gender\"])[\"revenue\"].sum().reset_index()\n",
    "region_customer_revenue"
   ]
  },
  {
   "cell_type": "code",
   "execution_count": 315,
   "id": "aab1e012-047a-420c-a8fd-12a72590de82",
   "metadata": {},
   "outputs": [
    {
     "data": {
      "image/png": "[encoded data removed]",
      "text/plain": [
       "<Figure size 1200x600 with 1 Axes>"
      ]
     },
     "metadata": {},
     "output_type": "display_data"
    }
   ],
   "source": [
    "plt.figure(figsize=(12,6))\n",
    "\n",
    "ax = sns.barplot(data=region_customer_revenue, x='customer_region', y='revenue', hue='gender')\n",
    "ax.set(title= ('Revenue by Customer Region and Gender'), xlabel=('Customer Region'), ylabel=('Revenue'))\n",
    "\n",
    "\n",
    "for bar in ax.patches:\n",
    "    height = bar.get_height()\n",
    "    ax.text(bar.get_x() + bar.get_width() / 2, height + 1, f'{height:.0f}',\n",
    "            ha='center', va='bottom', fontsize=9)\n",
    "\n",
    "plt.legend(title='Gender')\n",
    "\n",
    "plt.show()"
   ]
  },
  {
   "attachments": {},
   "cell_type": "markdown",
   "id": "f3094b59-b023-4939-893c-d565c78a4241",
   "metadata": {},
   "source": [
    "### Delivery performance\n",
    "\n"
   ]
  },
  {
   "cell_type": "code",
   "execution_count": 316,
   "id": "b463b674-4dc8-46c6-800f-13096fa67c16",
   "metadata": {},
   "outputs": [
    {
     "name": "stderr",
     "output_type": "stream",
     "text": [
      "/tmp/ipykernel_347/3030702591.py:1: FutureWarning: The default value of observed=False is deprecated and will change to observed=True in a future version of pandas. Specify observed=False to silence this warning and retain the current behavior\n",
      "  delivery_performance = merged_df[['sales_region',\"price_band\", \"delivery_status\",\"order_id\"]].pivot_table(index=['sales_region',\"price_band\", \"delivery_status\"],aggfunc=\"count\" )\n"
     ]
    },
    {
     "data": {
      "text/html": [
       "<div>\n",
       "<style scoped>\n",
       "    .dataframe tbody tr th:only-of-type {\n",
       "        vertical-align: middle;\n",
       "    }\n",
       "\n",
       "    .dataframe tbody tr th {\n",
       "        vertical-align: top;\n",
       "    }\n",
       "\n",
       "    .dataframe thead tr th {\n",
       "        text-align: left;\n",
       "    }\n",
       "\n",
       "    .dataframe thead tr:last-of-type th {\n",
       "        text-align: right;\n",
       "    }\n",
       "</style>\n",
       "<table border=\"1\" class=\"dataframe\">\n",
       "  <thead>\n",
       "    <tr>\n",
       "      <th>price_band</th>\n",
       "      <th colspan=\"4\" halign=\"left\">Low</th>\n",
       "      <th colspan=\"4\" halign=\"left\">Medium</th>\n",
       "      <th colspan=\"4\" halign=\"left\">High</th>\n",
       "    </tr>\n",
       "    <tr>\n",
       "      <th>delivery_status</th>\n",
       "      <th>cancelled</th>\n",
       "      <th>delayed</th>\n",
       "      <th>delivered</th>\n",
       "      <th>unknown</th>\n",
       "      <th>cancelled</th>\n",
       "      <th>delayed</th>\n",
       "      <th>delivered</th>\n",
       "      <th>unknown</th>\n",
       "      <th>cancelled</th>\n",
       "      <th>delayed</th>\n",
       "      <th>delivered</th>\n",
       "      <th>unknown</th>\n",
       "    </tr>\n",
       "    <tr>\n",
       "      <th>sales_region</th>\n",
       "      <th></th>\n",
       "      <th></th>\n",
       "      <th></th>\n",
       "      <th></th>\n",
       "      <th></th>\n",
       "      <th></th>\n",
       "      <th></th>\n",
       "      <th></th>\n",
       "      <th></th>\n",
       "      <th></th>\n",
       "      <th></th>\n",
       "      <th></th>\n",
       "    </tr>\n",
       "  </thead>\n",
       "  <tbody>\n",
       "    <tr>\n",
       "      <th>Central</th>\n",
       "      <td>26</td>\n",
       "      <td>43</td>\n",
       "      <td>44</td>\n",
       "      <td>0</td>\n",
       "      <td>49</td>\n",
       "      <td>88</td>\n",
       "      <td>88</td>\n",
       "      <td>0</td>\n",
       "      <td>50</td>\n",
       "      <td>104</td>\n",
       "      <td>110</td>\n",
       "      <td>1</td>\n",
       "    </tr>\n",
       "    <tr>\n",
       "      <th>East</th>\n",
       "      <td>21</td>\n",
       "      <td>40</td>\n",
       "      <td>35</td>\n",
       "      <td>0</td>\n",
       "      <td>33</td>\n",
       "      <td>102</td>\n",
       "      <td>104</td>\n",
       "      <td>0</td>\n",
       "      <td>44</td>\n",
       "      <td>109</td>\n",
       "      <td>113</td>\n",
       "      <td>1</td>\n",
       "    </tr>\n",
       "    <tr>\n",
       "      <th>North</th>\n",
       "      <td>24</td>\n",
       "      <td>41</td>\n",
       "      <td>41</td>\n",
       "      <td>1</td>\n",
       "      <td>35</td>\n",
       "      <td>91</td>\n",
       "      <td>80</td>\n",
       "      <td>0</td>\n",
       "      <td>58</td>\n",
       "      <td>106</td>\n",
       "      <td>129</td>\n",
       "      <td>0</td>\n",
       "    </tr>\n",
       "    <tr>\n",
       "      <th>South</th>\n",
       "      <td>24</td>\n",
       "      <td>33</td>\n",
       "      <td>41</td>\n",
       "      <td>0</td>\n",
       "      <td>40</td>\n",
       "      <td>72</td>\n",
       "      <td>89</td>\n",
       "      <td>0</td>\n",
       "      <td>53</td>\n",
       "      <td>125</td>\n",
       "      <td>119</td>\n",
       "      <td>0</td>\n",
       "    </tr>\n",
       "    <tr>\n",
       "      <th>West</th>\n",
       "      <td>13</td>\n",
       "      <td>30</td>\n",
       "      <td>34</td>\n",
       "      <td>0</td>\n",
       "      <td>63</td>\n",
       "      <td>87</td>\n",
       "      <td>96</td>\n",
       "      <td>0</td>\n",
       "      <td>58</td>\n",
       "      <td>103</td>\n",
       "      <td>109</td>\n",
       "      <td>0</td>\n",
       "    </tr>\n",
       "  </tbody>\n",
       "</table>\n",
       "</div>"
      ],
      "text/plain": [
       "price_band            Low                              Medium          \\\n",
       "delivery_status cancelled delayed delivered unknown cancelled delayed   \n",
       "sales_region                                                            \n",
       "Central                26      43        44       0        49      88   \n",
       "East                   21      40        35       0        33     102   \n",
       "North                  24      41        41       1        35      91   \n",
       "South                  24      33        41       0        40      72   \n",
       "West                   13      30        34       0        63      87   \n",
       "\n",
       "price_band                             High                            \n",
       "delivery_status delivered unknown cancelled delayed delivered unknown  \n",
       "sales_region                                                           \n",
       "Central                88       0        50     104       110       1  \n",
       "East                  104       0        44     109       113       1  \n",
       "North                  80       0        58     106       129       0  \n",
       "South                  89       0        53     125       119       0  \n",
       "West                   96       0        58     103       109       0  "
      ]
     },
     "execution_count": 316,
     "metadata": {},
     "output_type": "execute_result"
    }
   ],
   "source": [
    "delivery_performance = merged_df[['sales_region',\"price_band\", \"delivery_status\",\"order_id\"]].pivot_table(index=['sales_region',\"price_band\", \"delivery_status\"],aggfunc=\"count\" )\n",
    "delivery_performance = delivery_performance.reset_index().pivot(index=\"sales_region\", columns=[\"price_band\",\"delivery_status\"], values=\"order_id\")\n",
    "delivery_performance"
   ]
  },
  {
   "cell_type": "code",
   "execution_count": 317,
   "id": "24dca4ca-6b45-43f7-bb6e-5f98d920b528",
   "metadata": {},
   "outputs": [
    {
     "data": {
      "image/png": "[encoded data removed]",
      "text/plain": [
       "<Figure size 1200x600 with 1 Axes>"
      ]
     },
     "metadata": {},
     "output_type": "display_data"
    }
   ],
   "source": [
    "plt.figure(figsize=(12,6))\n",
    "\n",
    "ax = sns.countplot(merged_df, x=\"delivery_status\", hue=\"sales_region\")\n",
    "ax.set(title=\"Delivery status per region\", xlabel=\"Delivery Status\", ylabel=\"Count\")\n",
    "\n",
    "for bar in ax.patches:\n",
    "    height = bar.get_height()\n",
    "    ax.text(bar.get_x() + bar.get_width() / 2, height + 1, f'{height:.0f}',\n",
    "            ha='center', va='bottom', fontsize=9)\n",
    "plt.legend(title=\"region\")\n",
    "plt.show()"
   ]
  },
  {
   "attachments": {},
   "cell_type": "markdown",
   "id": "c022fb1e-d253-4520-8fb3-a6d4581b6f4d",
   "metadata": {},
   "source": [
    "### Preferred payment methods\n",
    "\n"
   ]
  },
  {
   "cell_type": "code",
   "execution_count": 318,
   "id": "c58be814-777a-4334-b4f1-e43df4053da5",
   "metadata": {},
   "outputs": [
    {
     "data": {
      "text/html": [
       "<div>\n",
       "<style scoped>\n",
       "    .dataframe tbody tr th:only-of-type {\n",
       "        vertical-align: middle;\n",
       "    }\n",
       "\n",
       "    .dataframe tbody tr th {\n",
       "        vertical-align: top;\n",
       "    }\n",
       "\n",
       "    .dataframe thead th {\n",
       "        text-align: right;\n",
       "    }\n",
       "</style>\n",
       "<table border=\"1\" class=\"dataframe\">\n",
       "  <thead>\n",
       "    <tr style=\"text-align: right;\">\n",
       "      <th>payment_method</th>\n",
       "      <th>Bank Transfer</th>\n",
       "      <th>Credit Card</th>\n",
       "      <th>PayPal</th>\n",
       "      <th>Unknown</th>\n",
       "    </tr>\n",
       "    <tr>\n",
       "      <th>loyalty_tier</th>\n",
       "      <th></th>\n",
       "      <th></th>\n",
       "      <th></th>\n",
       "      <th></th>\n",
       "    </tr>\n",
       "  </thead>\n",
       "  <tbody>\n",
       "    <tr>\n",
       "      <th>bronze</th>\n",
       "      <td>179.0</td>\n",
       "      <td>284.0</td>\n",
       "      <td>163.0</td>\n",
       "      <td>NaN</td>\n",
       "    </tr>\n",
       "    <tr>\n",
       "      <th>gold</th>\n",
       "      <td>406.0</td>\n",
       "      <td>847.0</td>\n",
       "      <td>433.0</td>\n",
       "      <td>2.0</td>\n",
       "    </tr>\n",
       "    <tr>\n",
       "      <th>silver</th>\n",
       "      <td>191.0</td>\n",
       "      <td>306.0</td>\n",
       "      <td>162.0</td>\n",
       "      <td>1.0</td>\n",
       "    </tr>\n",
       "  </tbody>\n",
       "</table>\n",
       "</div>"
      ],
      "text/plain": [
       "payment_method  Bank Transfer  Credit Card  PayPal  Unknown\n",
       "loyalty_tier                                               \n",
       "bronze                  179.0        284.0   163.0      NaN\n",
       "gold                    406.0        847.0   433.0      2.0\n",
       "silver                  191.0        306.0   162.0      1.0"
      ]
     },
     "execution_count": 318,
     "metadata": {},
     "output_type": "execute_result"
    }
   ],
   "source": [
    "preferred_payment = merged_df[[\"loyalty_tier\", \"payment_method\", \"order_id\"]].pivot_table(index=[\"loyalty_tier\", \"payment_method\"], aggfunc=\"count\"\n",
    "                                                                     ).reset_index().pivot(index=\"loyalty_tier\", columns=\"payment_method\", values=\"order_id\")\n",
    "preferred_payment"
   ]
  },
  {
   "attachments": {},
   "cell_type": "markdown",
   "id": "b791d48c-0b10-4db2-aedd-ffaf477b96d2",
   "metadata": {},
   "source": [
    "### Orders by loyalty tier\n",
    "\n"
   ]
  },
  {
   "cell_type": "code",
   "execution_count": 319,
   "id": "981ef924-5ac2-40e8-a030-30b8ecaadc66",
   "metadata": {},
   "outputs": [
    {
     "data": {
      "image/png": "[encoded data removed]",
      "text/plain": [
       "<Figure size 1200x600 with 1 Axes>"
      ]
     },
     "metadata": {},
     "output_type": "display_data"
    }
   ],
   "source": [
    "plt.figure(figsize=(12,6))\n",
    "\n",
    "ax = sns.countplot(merged_df, x=\"loyalty_tier\", hue=\"sales_region\")\n",
    "ax.set(title=\"Orders by loyalty tier\", xlabel=\"Loyalty Tier\", ylabel=\"Count\")\n",
    "\n",
    "for bar in ax.patches:\n",
    "    height = bar.get_height()\n",
    "    ax.text(bar.get_x() + bar.get_width() / 2, height + 1, f'{height:.0f}',\n",
    "            ha='center', va='bottom', fontsize=9)\n",
    "plt.legend(title=\"region\")\n",
    "plt.show()"
   ]
  },
  {
   "attachments": {},
   "cell_type": "markdown",
   "id": "691e9ccc-e90b-42b6-98ea-8bca1ad02c23",
   "metadata": {},
   "source": [
    "### Revenue by loyalty tier\n",
    "\n"
   ]
  },
  {
   "cell_type": "code",
   "execution_count": 320,
   "id": "82d669c6-15f6-44b9-a9a1-4740d7892173",
   "metadata": {},
   "outputs": [
    {
     "data": {
      "text/html": [
       "<div>\n",
       "<style scoped>\n",
       "    .dataframe tbody tr th:only-of-type {\n",
       "        vertical-align: middle;\n",
       "    }\n",
       "\n",
       "    .dataframe tbody tr th {\n",
       "        vertical-align: top;\n",
       "    }\n",
       "\n",
       "    .dataframe thead th {\n",
       "        text-align: right;\n",
       "    }\n",
       "</style>\n",
       "<table border=\"1\" class=\"dataframe\">\n",
       "  <thead>\n",
       "    <tr style=\"text-align: right;\">\n",
       "      <th></th>\n",
       "      <th>loyalty_tier</th>\n",
       "      <th>revenue</th>\n",
       "    </tr>\n",
       "  </thead>\n",
       "  <tbody>\n",
       "    <tr>\n",
       "      <th>0</th>\n",
       "      <td>bronze</td>\n",
       "      <td>48114.1215</td>\n",
       "    </tr>\n",
       "    <tr>\n",
       "      <th>1</th>\n",
       "      <td>gold</td>\n",
       "      <td>135171.9520</td>\n",
       "    </tr>\n",
       "    <tr>\n",
       "      <th>2</th>\n",
       "      <td>silver</td>\n",
       "      <td>51418.6550</td>\n",
       "    </tr>\n",
       "  </tbody>\n",
       "</table>\n",
       "</div>"
      ],
      "text/plain": [
       "  loyalty_tier      revenue\n",
       "0       bronze   48114.1215\n",
       "1         gold  135171.9520\n",
       "2       silver   51418.6550"
      ]
     },
     "execution_count": 320,
     "metadata": {},
     "output_type": "execute_result"
    }
   ],
   "source": [
    "loyalty_tier_revenue = merged_df.groupby([\"loyalty_tier\"])['revenue'].sum().reset_index()\n",
    "loyalty_tier_revenue"
   ]
  },
  {
   "cell_type": "code",
   "execution_count": 321,
   "id": "7640e73d-0839-4f19-8220-a444bd9b2b24",
   "metadata": {},
   "outputs": [
    {
     "data": {
      "image/png": "[encoded data removed]",
      "text/plain": [
       "<Figure size 1200x600 with 1 Axes>"
      ]
     },
     "metadata": {},
     "output_type": "display_data"
    }
   ],
   "source": [
    "plt.figure(figsize=(12,6))\n",
    "\n",
    "ax = sns.barplot(data=loyalty_tier_revenue, x=\"loyalty_tier\", y=\"revenue\", color='g')\n",
    "ax.set(title=\"Revenue by loyalty tier\", xlabel=\"Loyalty Tier\", ylabel=\"Revenue\")\n",
    "\n",
    "for bar in ax.patches:\n",
    "    height = bar.get_height()\n",
    "    ax.text(bar.get_x() + bar.get_width() / 2, height + 1, f'{height:.0f}',\n",
    "            ha='center', va='bottom', fontsize=9)\n",
    "plt.tight_layout()\n",
    "plt.show()"
   ]
  },
  {
   "attachments": {},
   "cell_type": "markdown",
   "id": "5d90fca1-78c4-47a7-b48c-64e6271c7d27",
   "metadata": {},
   "source": [
    "### Delivery status by price band\n",
    "\n"
   ]
  },
  {
   "cell_type": "code",
   "execution_count": 322,
   "id": "0650fb12-8841-46d9-9022-2bdaa054da32",
   "metadata": {},
   "outputs": [
    {
     "name": "stderr",
     "output_type": "stream",
     "text": [
      "/tmp/ipykernel_347/3866653908.py:1: FutureWarning: The default of observed=False is deprecated and will be changed to True in a future version of pandas. Pass observed=False to retain current behavior or observed=True to adopt the future default and silence this warning.\n",
      "  delivery_status = merged_df.groupby(['price_band', \"delivery_status\"])[\"order_id\"].count().reset_index()\n"
     ]
    },
    {
     "data": {
      "text/html": [
       "<div>\n",
       "<style scoped>\n",
       "    .dataframe tbody tr th:only-of-type {\n",
       "        vertical-align: middle;\n",
       "    }\n",
       "\n",
       "    .dataframe tbody tr th {\n",
       "        vertical-align: top;\n",
       "    }\n",
       "\n",
       "    .dataframe thead th {\n",
       "        text-align: right;\n",
       "    }\n",
       "</style>\n",
       "<table border=\"1\" class=\"dataframe\">\n",
       "  <thead>\n",
       "    <tr style=\"text-align: right;\">\n",
       "      <th>delivery_status</th>\n",
       "      <th>cancelled</th>\n",
       "      <th>delayed</th>\n",
       "      <th>delivered</th>\n",
       "      <th>unknown</th>\n",
       "    </tr>\n",
       "    <tr>\n",
       "      <th>price_band</th>\n",
       "      <th></th>\n",
       "      <th></th>\n",
       "      <th></th>\n",
       "      <th></th>\n",
       "    </tr>\n",
       "  </thead>\n",
       "  <tbody>\n",
       "    <tr>\n",
       "      <th>Low</th>\n",
       "      <td>108</td>\n",
       "      <td>187</td>\n",
       "      <td>195</td>\n",
       "      <td>1</td>\n",
       "    </tr>\n",
       "    <tr>\n",
       "      <th>Medium</th>\n",
       "      <td>220</td>\n",
       "      <td>440</td>\n",
       "      <td>457</td>\n",
       "      <td>0</td>\n",
       "    </tr>\n",
       "    <tr>\n",
       "      <th>High</th>\n",
       "      <td>263</td>\n",
       "      <td>547</td>\n",
       "      <td>580</td>\n",
       "      <td>2</td>\n",
       "    </tr>\n",
       "  </tbody>\n",
       "</table>\n",
       "</div>"
      ],
      "text/plain": [
       "delivery_status  cancelled  delayed  delivered  unknown\n",
       "price_band                                             \n",
       "Low                    108      187        195        1\n",
       "Medium                 220      440        457        0\n",
       "High                   263      547        580        2"
      ]
     },
     "execution_count": 322,
     "metadata": {},
     "output_type": "execute_result"
    }
   ],
   "source": [
    "delivery_status = merged_df.groupby(['price_band', \"delivery_status\"])[\"order_id\"].count().reset_index()\n",
    "delivery_status = delivery_status.pivot(index=\"price_band\", columns=\"delivery_status\", values=\"order_id\")\n",
    "delivery_status"
   ]
  },
  {
   "cell_type": "code",
   "execution_count": 323,
   "id": "258758e0-642b-43ff-a808-6d835fef79a5",
   "metadata": {},
   "outputs": [
    {
     "data": {
      "image/png": "[encoded data removed]",
      "text/plain": [
       "<Figure size 1000x600 with 1 Axes>"
      ]
     },
     "metadata": {},
     "output_type": "display_data"
    }
   ],
   "source": [
    "ax = delivery_status.plot(kind=\"bar\", stacked=\"True\", title=\"Delivery status by price band\", figsize=(10, 6))\n",
    "ax.tick_params(axis = 'x' , rotation=0)\n",
    "plt.xlabel(\"Price Band\")\n",
    "plt.legend(title=\"status\")\n",
    "plt.show()"
   ]
  }
 ],
 "metadata": {
  "kernelspec": {
   "display_name": "Python-3",
   "language": "python",
   "name": "python-3"
  },
  "language_info": {
   "codemirror_mode": {
    "name": "ipython",
    "version": 3
   },
   "file_extension": ".py",
   "mimetype": "text/x-python",
   "name": "python",
   "nbconvert_exporter": "python",
   "pygments_lexer": "ipython3",
   "version": "3.11.10"
  }
 },
 "nbformat": 4,
 "nbformat_minor": 5
}
